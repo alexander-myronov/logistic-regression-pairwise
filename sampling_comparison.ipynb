{
 "cells": [
  {
   "cell_type": "code",
   "execution_count": 1,
   "metadata": {
    "collapsed": true
   },
   "outputs": [],
   "source": [
    "import numpy as np\n",
    "import pandas as pd\n",
    "import matplotlib.pyplot as plt\n",
    "\n",
    "import os\n",
    "import itertools\n",
    "from collections import OrderedDict\n",
    "from functools import partial\n",
    "\n",
    "from sklearn.datasets import load_svmlight_file, make_circles\n",
    "\n",
    "\n",
    "from links import LinksClassifier\n",
    "from logit import LogisticRegressionPairwise, LogisticRegression\n",
    "\n",
    "\n",
    "from sklearn.model_selection import ParameterGrid, StratifiedShuffleSplit, GridSearchCV\n",
    "from sklearn.preprocessing import StandardScaler\n",
    "from sklearn.model_selection import train_test_split\n",
    "\n",
    "from tqdm import tqdm_notebook as tqdm\n",
    "\n",
    "from new_experiment_runner.cacher import CSVCacher"
   ]
  },
  {
   "cell_type": "code",
   "execution_count": 17,
   "metadata": {
    "collapsed": false
   },
   "outputs": [
    {
     "name": "stdout",
     "output_type": "stream",
     "text": [
      "The autoreload extension is already loaded. To reload it, use:\n",
      "  %reload_ext autoreload\n"
     ]
    }
   ],
   "source": [
    "%matplotlib tk\n",
    "%load_ext autoreload\n",
    "%autoreload 2"
   ]
  },
  {
   "cell_type": "code",
   "execution_count": 40,
   "metadata": {
    "collapsed": true
   },
   "outputs": [],
   "source": [
    "params = pd.read_csv('data/samping.csv')"
   ]
  },
  {
   "cell_type": "code",
   "execution_count": 41,
   "metadata": {
    "collapsed": true
   },
   "outputs": [],
   "source": [
    "datasets =params.dataset.unique()\n",
    "methods = np.unique(params.sampling_method)"
   ]
  },
  {
   "cell_type": "code",
   "execution_count": 76,
   "metadata": {
    "collapsed": false
   },
   "outputs": [
    {
     "data": {
      "text/plain": [
       "<matplotlib.text.Text at 0x2a003630>"
      ]
     },
     "execution_count": 76,
     "metadata": {},
     "output_type": "execute_result"
    }
   ],
   "source": [
    "fig, ax = plt.subplots(ncols=len(datasets), nrows=2)\n",
    "for i_ds, ds in enumerate(datasets):\n",
    "    ds_scores = params.ix[params['dataset'] == ds]\n",
    "    gb = ds_scores.groupby('sampling_method')\n",
    "    ds_by_method = map(lambda kv: kv[1], gb)\n",
    "    ax[0, i_ds].boxplot(map(lambda d: d['test_score'], ds_by_method), labels=methods.astype(int))\n",
    "    ax[0, i_ds].set_yticks(np.round(np.linspace(0.5, 1.0, 5), 2))\n",
    "    ax[0, i_ds].set_ylim(0.5, 1)\n",
    "    ax[0, i_ds].set_title(ds)\n",
    "    \n",
    "    ax[1, i_ds].boxplot(map(lambda d: d['cv_score'], ds_by_method), labels=methods.astype(int))\n",
    "    ax[1, i_ds].set_yticks(np.round(np.linspace(0.5, 1.0, 5), 2))\n",
    "    \n",
    "ax[0, 0].set_ylabel('test score')\n",
    "ax[1, 0].set_ylabel('cv score')"
   ]
  },
  {
   "cell_type": "code",
   "execution_count": 74,
   "metadata": {
    "collapsed": false
   },
   "outputs": [
    {
     "data": {
      "text/plain": [
       "<matplotlib.text.Text at 0x2671ba90>"
      ]
     },
     "execution_count": 74,
     "metadata": {},
     "output_type": "execute_result"
    }
   ],
   "source": [
    "fig, ax = plt.subplots(ncols=len(datasets), nrows=3)\n",
    "for i_ds, ds in enumerate(datasets):\n",
    "    ds_scores = params.ix[params['dataset'] == ds]\n",
    "    gb = ds_scores.groupby('sampling_method')\n",
    "    ds_by_method = map(lambda kv: kv[1], gb)\n",
    "    \n",
    "    ax[0, i_ds].set_title(ds)\n",
    "    ax[0, i_ds].boxplot(map(lambda d: d['alpha'], ds_by_method))\n",
    "    ax[1, i_ds].boxplot(map(lambda d: d['beta'], ds_by_method))\n",
    "    ax[2, i_ds].boxplot(map(lambda d: d['delta'], ds_by_method), labels=methods.astype(int))\n",
    "    \n",
    "ax[0, 0].set_ylabel('alpha')\n",
    "ax[1, 0].set_ylabel('beta')\n",
    "ax[2, 0].set_ylabel('delta')\n",
    "#fig.tight_layout(w_pad=10)"
   ]
  },
  {
   "cell_type": "code",
   "execution_count": 75,
   "metadata": {
    "collapsed": false
   },
   "outputs": [
    {
     "data": {
      "text/plain": [
       "<matplotlib.text.Text at 0x284744a8>"
      ]
     },
     "execution_count": 75,
     "metadata": {},
     "output_type": "execute_result"
    }
   ],
   "source": [
    "fig, ax = plt.subplots(ncols=len(datasets), nrows=3)\n",
    "for i_ds, ds in enumerate(datasets):\n",
    "    ds_scores = params.ix[params['dataset'] == ds]\n",
    "    gb = ds_scores.groupby('sampling_method')\n",
    "    ds_by_method = map(lambda kv: kv[1], gb)\n",
    "    \n",
    "    ax[0, i_ds].set_title(ds)\n",
    "    ax[0, i_ds].boxplot(map(lambda d: d['alpha/n'], ds_by_method))\n",
    "    ax[1, i_ds].boxplot(map(lambda d: d['beta/n'], ds_by_method))\n",
    "    ax[2, i_ds].boxplot(map(lambda d: d['delta/n'], ds_by_method), labels=methods.astype(int))\n",
    "    \n",
    "    ax[0, i_ds].set_yticks(np.round(np.linspace(params['alpha/n'].min(), params['alpha/n'].max(), 10), 1))\n",
    "    ax[1, i_ds].set_yticks(np.round(np.linspace(params['beta/n'].min(), params['beta/n'].max(), 10), 1))\n",
    "    ax[2, i_ds].set_yticks(np.round(np.linspace(params['delta/n'].min(), params['delta/n'].max(), 10), 1))\n",
    "ax[0, 0].set_ylabel('alpha/n')\n",
    "ax[1, 0].set_ylabel('beta/n')\n",
    "ax[2, 0].set_ylabel('delta/n')\n",
    "#fig.bbox_inches('tight')"
   ]
  },
  {
   "cell_type": "code",
   "execution_count": 50,
   "metadata": {
    "collapsed": false
   },
   "outputs": [
    {
     "ename": "IndexError",
     "evalue": "only integers, slices (`:`), ellipsis (`...`), numpy.newaxis (`None`) and integer or boolean arrays are valid indices",
     "output_type": "error",
     "traceback": [
      "\u001b[0;31m---------------------------------------------------------------------------\u001b[0m",
      "\u001b[0;31mIndexError\u001b[0m                                Traceback (most recent call last)",
      "\u001b[0;32m<ipython-input-50-6ef8aa5875fc>\u001b[0m in \u001b[0;36m<module>\u001b[0;34m()\u001b[0m\n\u001b[0;32m----> 1\u001b[0;31m \u001b[0mdatasets\u001b[0m\u001b[1;33m[\u001b[0m\u001b[1;34m'alpha/n'\u001b[0m\u001b[1;33m]\u001b[0m\u001b[1;33m.\u001b[0m\u001b[0mmax\u001b[0m\u001b[1;33m(\u001b[0m\u001b[1;33m)\u001b[0m\u001b[1;33m\u001b[0m\u001b[0m\n\u001b[0m",
      "\u001b[0;31mIndexError\u001b[0m: only integers, slices (`:`), ellipsis (`...`), numpy.newaxis (`None`) and integer or boolean arrays are valid indices"
     ]
    }
   ],
   "source": [
    "datasets['alpha/n'].max()"
   ]
  },
  {
   "cell_type": "code",
   "execution_count": 13,
   "metadata": {
    "collapsed": false,
    "scrolled": true
   },
   "outputs": [
    {
     "name": "stdout",
     "output_type": "stream",
     "text": [
      "Help on function boxplot in module matplotlib.pyplot:\n",
      "\n",
      "boxplot(x, notch=None, sym=None, vert=None, whis=None, positions=None, widths=None, patch_artist=None, bootstrap=None, usermedians=None, conf_intervals=None, meanline=None, showmeans=None, showcaps=None, showbox=None, showfliers=None, boxprops=None, labels=None, flierprops=None, medianprops=None, meanprops=None, capprops=None, whiskerprops=None, manage_xticks=True, hold=None, data=None)\n",
      "    Make a box and whisker plot.\n",
      "    \n",
      "    Call signature::\n",
      "    \n",
      "      boxplot(self, x, notch=None, sym=None, vert=None, whis=None,\n",
      "              positions=None, widths=None, patch_artist=False,\n",
      "              bootstrap=None, usermedians=None, conf_intervals=None,\n",
      "              meanline=False, showmeans=False, showcaps=True,\n",
      "              showbox=True, showfliers=True, boxprops=None, labels=None,\n",
      "              flierprops=None, medianprops=None, meanprops=None,\n",
      "              capprops=None, whiskerprops=None, manage_xticks=True):\n",
      "    \n",
      "    Make a box and whisker plot for each column of *x* or each\n",
      "    vector in sequence *x*.  The box extends from the lower to\n",
      "    upper quartile values of the data, with a line at the median.\n",
      "    The whiskers extend from the box to show the range of the\n",
      "    data.  Flier points are those past the end of the whiskers.\n",
      "    \n",
      "    Parameters\n",
      "    ----------\n",
      "    x : Array or a sequence of vectors.\n",
      "       The input data.\n",
      "    \n",
      "    notch : bool, default = False\n",
      "       If False, produces a rectangular box plot.\n",
      "       If True, will produce a notched box plot\n",
      "    \n",
      "    sym : str or None, default = None\n",
      "       The default symbol for flier points.\n",
      "       Enter an empty string ('') if you don't want to show fliers.\n",
      "       If `None`, then the fliers default to 'b+'  If you want more\n",
      "       control use the flierprops kwarg.\n",
      "    \n",
      "    vert : bool, default = True\n",
      "       If True (default), makes the boxes vertical.\n",
      "       If False, makes horizontal boxes.\n",
      "    \n",
      "    whis : float, sequence (default = 1.5) or string\n",
      "       As a float, determines the reach of the whiskers past the first\n",
      "       and third quartiles (e.g., Q3 + whis*IQR, IQR = interquartile\n",
      "       range, Q3-Q1). Beyond the whiskers, data are considered outliers\n",
      "       and are plotted as individual points. Set this to an unreasonably\n",
      "       high value to force the whiskers to show the min and max values.\n",
      "       Alternatively, set this to an ascending sequence of percentile\n",
      "       (e.g., [5, 95]) to set the whiskers at specific percentiles of\n",
      "       the data. Finally, *whis* can be the string 'range' to force the\n",
      "       whiskers to the min and max of the data. In the edge case that\n",
      "       the 25th and 75th percentiles are equivalent, *whis* will be\n",
      "       automatically set to 'range'.\n",
      "    \n",
      "    bootstrap : None (default) or integer\n",
      "       Specifies whether to bootstrap the confidence intervals\n",
      "       around the median for notched boxplots. If bootstrap==None,\n",
      "       no bootstrapping is performed, and notches are calculated\n",
      "       using a Gaussian-based asymptotic approximation  (see McGill, R.,\n",
      "       Tukey, J.W., and Larsen, W.A., 1978, and Kendall and Stuart,\n",
      "       1967). Otherwise, bootstrap specifies the number of times to\n",
      "       bootstrap the median to determine it's 95% confidence intervals.\n",
      "       Values between 1000 and 10000 are recommended.\n",
      "    \n",
      "    usermedians : array-like or None (default)\n",
      "       An array or sequence whose first dimension (or length) is\n",
      "       compatible with *x*. This overrides the medians computed by\n",
      "       matplotlib for each element of *usermedians* that is not None.\n",
      "       When an element of *usermedians* == None, the median will be\n",
      "       computed by matplotlib as normal.\n",
      "    \n",
      "    conf_intervals : array-like or None (default)\n",
      "       Array or sequence whose first dimension (or length) is compatible\n",
      "       with *x* and whose second dimension is 2. When the current element\n",
      "       of *conf_intervals* is not None, the notch locations computed by\n",
      "       matplotlib are overridden (assuming notch is True). When an\n",
      "       element of *conf_intervals* is None, boxplot compute notches the\n",
      "       method specified by the other kwargs (e.g., *bootstrap*).\n",
      "    \n",
      "    positions : array-like, default = [1, 2, ..., n]\n",
      "       Sets the positions of the boxes. The ticks and limits\n",
      "       are automatically set to match the positions.\n",
      "    \n",
      "    widths : array-like, default = 0.5\n",
      "       Either a scalar or a vector and sets the width of each box. The\n",
      "       default is 0.5, or ``0.15*(distance between extreme positions)``\n",
      "       if that is smaller.\n",
      "    \n",
      "    labels : sequence or None (default)\n",
      "       Labels for each dataset. Length must be compatible with\n",
      "       dimensions  of *x*\n",
      "    \n",
      "    patch_artist : bool, default = False\n",
      "       If False produces boxes with the Line2D artist\n",
      "       If True produces boxes with the Patch artist\n",
      "    \n",
      "    showmeans : bool, default = False\n",
      "       If True, will toggle one the rendering of the means\n",
      "    \n",
      "    showcaps : bool, default = True\n",
      "       If True, will toggle one the rendering of the caps\n",
      "    \n",
      "    showbox : bool, default = True\n",
      "       If True, will toggle one the rendering of box\n",
      "    \n",
      "    showfliers : bool, default = True\n",
      "       If True, will toggle one the rendering of the fliers\n",
      "    \n",
      "    boxprops : dict or None (default)\n",
      "       If provided, will set the plotting style of the boxes\n",
      "    \n",
      "    whiskerprops : dict or None (default)\n",
      "       If provided, will set the plotting style of the whiskers\n",
      "    \n",
      "    capprops : dict or None (default)\n",
      "       If provided, will set the plotting style of the caps\n",
      "    \n",
      "    flierprops : dict or None (default)\n",
      "       If provided, will set the plotting style of the fliers\n",
      "    \n",
      "    medianprops : dict or None (default)\n",
      "       If provided, will set the plotting style of the medians\n",
      "    \n",
      "    meanprops : dict or None (default)\n",
      "        If provided, will set the plotting style of the means\n",
      "    \n",
      "    meanline : bool, default = False\n",
      "        If True (and *showmeans* is True), will try to render the mean\n",
      "        as a line spanning the full width of the box according to\n",
      "        *meanprops*. Not recommended if *shownotches* is also True.\n",
      "        Otherwise, means will be shown as points.\n",
      "    \n",
      "    manage_xticks : bool, default = True\n",
      "        If the function should adjust the xlim and xtick locations.\n",
      "    \n",
      "    Returns\n",
      "    -------\n",
      "    \n",
      "    result : dict\n",
      "        A dictionary mapping each component of the boxplot\n",
      "        to a list of the :class:`matplotlib.lines.Line2D`\n",
      "        instances created. That dictionary has the following keys\n",
      "        (assuming vertical boxplots):\n",
      "    \n",
      "        - boxes: the main body of the boxplot showing the quartiles\n",
      "          and the median's confidence intervals if enabled.\n",
      "        - medians: horizonal lines at the median of each box.\n",
      "        - whiskers: the vertical lines extending to the most extreme,\n",
      "          n-outlier data points.\n",
      "        - caps: the horizontal lines at the ends of the whiskers.\n",
      "        - fliers: points representing data that extend beyond the\n",
      "          whiskers (outliers).\n",
      "        - means: points or lines representing the means.\n",
      "    \n",
      "    Examples\n",
      "    --------\n",
      "    \n",
      "    .. plot:: mpl_examples/statistics/boxplot_demo.py\n",
      "    \n",
      "    Notes\n",
      "    -----\n",
      "    \n",
      "    In addition to the above described arguments, this function can take a\n",
      "    **data** keyword argument. If such a **data** argument is given, the\n",
      "    following arguments are replaced by **data[<arg>]**:\n",
      "    \n",
      "    * All positional and all keyword arguments.\n",
      "    \n",
      "    \n",
      "    \n",
      "    \n",
      "    Additional kwargs: hold = [True|False] overrides default hold state\n",
      "\n"
     ]
    }
   ],
   "source": [
    "help(plt.boxplot)"
   ]
  },
  {
   "cell_type": "code",
   "execution_count": null,
   "metadata": {
    "collapsed": true
   },
   "outputs": [],
   "source": []
  }
 ],
 "metadata": {
  "kernelspec": {
   "display_name": "Python 2",
   "language": "python",
   "name": "python2"
  },
  "language_info": {
   "codemirror_mode": {
    "name": "ipython",
    "version": 2
   },
   "file_extension": ".py",
   "mimetype": "text/x-python",
   "name": "python",
   "nbconvert_exporter": "python",
   "pygments_lexer": "ipython2",
   "version": "2.7.11"
  }
 },
 "nbformat": 4,
 "nbformat_minor": 0
}
