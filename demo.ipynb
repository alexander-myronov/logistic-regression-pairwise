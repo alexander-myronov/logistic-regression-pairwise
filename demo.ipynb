{
 "cells": [
  {
   "cell_type": "code",
   "execution_count": 2,
   "metadata": {
    "collapsed": true
   },
   "outputs": [],
   "source": [
    "from __future__ import division, print_function"
   ]
  },
  {
   "cell_type": "code",
   "execution_count": 3,
   "metadata": {
    "collapsed": true
   },
   "outputs": [],
   "source": [
    "import numpy as np\n",
    "import pandas as pd\n",
    "import matplotlib.pyplot as plt\n",
    "import itertools"
   ]
  },
  {
   "cell_type": "code",
   "execution_count": 4,
   "metadata": {
    "collapsed": true
   },
   "outputs": [],
   "source": [
    "%matplotlib inline\n",
    "%load_ext autoreload\n",
    "%autoreload 2"
   ]
  },
  {
   "cell_type": "code",
   "execution_count": 27,
   "metadata": {
    "collapsed": false
   },
   "outputs": [],
   "source": [
    "benchmarks = pd.read_csv('data/benchmars_linears_trzmiel.csv')\n",
    "#benchmarks = benchmarks.ix[benchmarks.estimator != 'Links(labels+links)']"
   ]
  },
  {
   "cell_type": "code",
   "execution_count": 28,
   "metadata": {
    "collapsed": false
   },
   "outputs": [
    {
     "data": {
      "text/html": [
       "<div>\n",
       "<table border=\"1\" class=\"dataframe\">\n",
       "  <thead>\n",
       "    <tr style=\"text-align: right;\">\n",
       "      <th></th>\n",
       "      <th>cv_splits</th>\n",
       "      <th>rs_test_size</th>\n",
       "      <th>rs_iters</th>\n",
       "      <th>cv_test_size</th>\n",
       "      <th>rs_splits</th>\n",
       "      <th>cv_random_state</th>\n",
       "      <th>dataset</th>\n",
       "      <th>estimator</th>\n",
       "      <th>percent_labels</th>\n",
       "      <th>percent_links</th>\n",
       "      <th>percent_unlabeled</th>\n",
       "      <th>cv_split</th>\n",
       "      <th>alpha</th>\n",
       "      <th>beta</th>\n",
       "      <th>cv_score</th>\n",
       "      <th>gamma</th>\n",
       "      <th>test_score</th>\n",
       "      <th>delta</th>\n",
       "      <th>C</th>\n",
       "    </tr>\n",
       "  </thead>\n",
       "  <tbody>\n",
       "    <tr>\n",
       "      <th>0</th>\n",
       "      <td>10.0</td>\n",
       "      <td>0.2</td>\n",
       "      <td>100.0</td>\n",
       "      <td>0.2</td>\n",
       "      <td>5.0</td>\n",
       "      <td>42.0</td>\n",
       "      <td>diabetes_scale</td>\n",
       "      <td>Links</td>\n",
       "      <td>0.1</td>\n",
       "      <td>0.1</td>\n",
       "      <td>0.0</td>\n",
       "      <td>0.0</td>\n",
       "      <td>46.910631</td>\n",
       "      <td>546.033741</td>\n",
       "      <td>0.784615</td>\n",
       "      <td>0.01000</td>\n",
       "      <td>0.740260</td>\n",
       "      <td>NaN</td>\n",
       "      <td>NaN</td>\n",
       "    </tr>\n",
       "    <tr>\n",
       "      <th>1</th>\n",
       "      <td>10.0</td>\n",
       "      <td>0.2</td>\n",
       "      <td>100.0</td>\n",
       "      <td>0.2</td>\n",
       "      <td>5.0</td>\n",
       "      <td>42.0</td>\n",
       "      <td>diabetes_scale</td>\n",
       "      <td>Links</td>\n",
       "      <td>0.1</td>\n",
       "      <td>0.1</td>\n",
       "      <td>0.1</td>\n",
       "      <td>0.0</td>\n",
       "      <td>98.108611</td>\n",
       "      <td>838.277879</td>\n",
       "      <td>0.861538</td>\n",
       "      <td>0.00001</td>\n",
       "      <td>0.740260</td>\n",
       "      <td>71.648611</td>\n",
       "      <td>NaN</td>\n",
       "    </tr>\n",
       "    <tr>\n",
       "      <th>2</th>\n",
       "      <td>10.0</td>\n",
       "      <td>0.2</td>\n",
       "      <td>100.0</td>\n",
       "      <td>0.2</td>\n",
       "      <td>5.0</td>\n",
       "      <td>42.0</td>\n",
       "      <td>diabetes_scale</td>\n",
       "      <td>Links</td>\n",
       "      <td>0.1</td>\n",
       "      <td>0.1</td>\n",
       "      <td>0.0</td>\n",
       "      <td>4.0</td>\n",
       "      <td>223.521513</td>\n",
       "      <td>675.757103</td>\n",
       "      <td>0.692308</td>\n",
       "      <td>100.00000</td>\n",
       "      <td>0.740260</td>\n",
       "      <td>NaN</td>\n",
       "      <td>NaN</td>\n",
       "    </tr>\n",
       "    <tr>\n",
       "      <th>3</th>\n",
       "      <td>10.0</td>\n",
       "      <td>0.2</td>\n",
       "      <td>100.0</td>\n",
       "      <td>0.2</td>\n",
       "      <td>5.0</td>\n",
       "      <td>42.0</td>\n",
       "      <td>diabetes_scale</td>\n",
       "      <td>Links</td>\n",
       "      <td>0.1</td>\n",
       "      <td>0.1</td>\n",
       "      <td>0.0</td>\n",
       "      <td>9.0</td>\n",
       "      <td>46.910631</td>\n",
       "      <td>546.033741</td>\n",
       "      <td>0.784615</td>\n",
       "      <td>0.01000</td>\n",
       "      <td>0.740260</td>\n",
       "      <td>NaN</td>\n",
       "      <td>NaN</td>\n",
       "    </tr>\n",
       "    <tr>\n",
       "      <th>4</th>\n",
       "      <td>10.0</td>\n",
       "      <td>0.2</td>\n",
       "      <td>100.0</td>\n",
       "      <td>0.2</td>\n",
       "      <td>5.0</td>\n",
       "      <td>42.0</td>\n",
       "      <td>diabetes_scale</td>\n",
       "      <td>Links</td>\n",
       "      <td>0.2</td>\n",
       "      <td>0.2</td>\n",
       "      <td>0.0</td>\n",
       "      <td>4.0</td>\n",
       "      <td>94.795387</td>\n",
       "      <td>1103.436826</td>\n",
       "      <td>0.768000</td>\n",
       "      <td>0.01000</td>\n",
       "      <td>0.720779</td>\n",
       "      <td>NaN</td>\n",
       "      <td>NaN</td>\n",
       "    </tr>\n",
       "  </tbody>\n",
       "</table>\n",
       "</div>"
      ],
      "text/plain": [
       "   cv_splits  rs_test_size  rs_iters  cv_test_size  rs_splits  \\\n",
       "0       10.0           0.2     100.0           0.2        5.0   \n",
       "1       10.0           0.2     100.0           0.2        5.0   \n",
       "2       10.0           0.2     100.0           0.2        5.0   \n",
       "3       10.0           0.2     100.0           0.2        5.0   \n",
       "4       10.0           0.2     100.0           0.2        5.0   \n",
       "\n",
       "   cv_random_state         dataset estimator  percent_labels  percent_links  \\\n",
       "0             42.0  diabetes_scale     Links             0.1            0.1   \n",
       "1             42.0  diabetes_scale     Links             0.1            0.1   \n",
       "2             42.0  diabetes_scale     Links             0.1            0.1   \n",
       "3             42.0  diabetes_scale     Links             0.1            0.1   \n",
       "4             42.0  diabetes_scale     Links             0.2            0.2   \n",
       "\n",
       "   percent_unlabeled  cv_split       alpha         beta  cv_score      gamma  \\\n",
       "0                0.0       0.0   46.910631   546.033741  0.784615    0.01000   \n",
       "1                0.1       0.0   98.108611   838.277879  0.861538    0.00001   \n",
       "2                0.0       4.0  223.521513   675.757103  0.692308  100.00000   \n",
       "3                0.0       9.0   46.910631   546.033741  0.784615    0.01000   \n",
       "4                0.0       4.0   94.795387  1103.436826  0.768000    0.01000   \n",
       "\n",
       "   test_score      delta   C  \n",
       "0    0.740260        NaN NaN  \n",
       "1    0.740260  71.648611 NaN  \n",
       "2    0.740260        NaN NaN  \n",
       "3    0.740260        NaN NaN  \n",
       "4    0.720779        NaN NaN  "
      ]
     },
     "execution_count": 28,
     "metadata": {},
     "output_type": "execute_result"
    }
   ],
   "source": [
    "benchmarks.head()"
   ]
  },
  {
   "cell_type": "code",
   "execution_count": 29,
   "metadata": {
    "collapsed": true
   },
   "outputs": [],
   "source": [
    "%matplotlib tk"
   ]
  },
  {
   "cell_type": "code",
   "execution_count": 30,
   "metadata": {
    "collapsed": false
   },
   "outputs": [],
   "source": [
    "def plot_benchmarks_subset(benchmarks_subset):\n",
    "    fig, axs= plt.subplots(ncols=len(benchmarks_subset.percent_labels.unique()), nrows=len(benchmarks_subset.dataset.unique()))\n",
    "\n",
    "    for i_ds, (ds_name, ds_df) in enumerate(benchmarks_subset.groupby('dataset')):\n",
    "\n",
    "        for i_percent, (p_labels, percent_subset) in enumerate(ds_df.groupby('percent_labels')):\n",
    "            #print(p_labels, p_links)\n",
    "            #print(percent_subset.estimator.unique())\n",
    "            ax = axs[i_ds, i_percent]\n",
    "            if i_percent == 0:\n",
    "                ax.set_title(ds_name)\n",
    "            ax.set_xlim(0, 0.5)\n",
    "            #ax.set_xlabel('% unlabeled')\n",
    "            #ax.set_ylim(0.55, 1)\n",
    "            ax.set_ylim(percent_subset.test_score.min(), percent_subset.test_score.max())\n",
    "            #ax.set_ylabel('accuracy')\n",
    "\n",
    "            svm_scores = percent_subset.ix[percent_subset.estimator == 'SVM']\n",
    "            npklr_scores = percent_subset.ix[percent_subset.estimator == 'NPKLR']\n",
    "            links_scores = percent_subset.ix[percent_subset.estimator == 'Links']\n",
    "            links_score_by_pun = links_scores['test_score'].groupby(links_scores['percent_unlabeled']).agg('mean')\n",
    "            #assert svm_scores.\n",
    "            ax.plot([0, 0.5], [svm_scores.test_score.mean()]*2, 'g--', label='SVM')\n",
    "            ax.plot([0, 0.5], [npklr_scores.test_score.mean()]*2, 'y--', label='NPKLR')\n",
    "            ax.plot(links_score_by_pun.index.values, links_score_by_pun.values, 'r', label='Links')\n",
    "        #break\n",
    "    fig.subplots_adjust(left=0.05, bottom=0.05, right=0.95, top=0.95,\n",
    "                    wspace=0.07, hspace=0.05)"
   ]
  },
  {
   "cell_type": "code",
   "execution_count": 25,
   "metadata": {
    "collapsed": true
   },
   "outputs": [],
   "source": [
    "benchmarks_subset = benchmarks.ix[benchmarks.dataset.isin(benchmarks.dataset.unique()[:3])]\n",
    "plot_benchmarks_subset(benchmarks_subset)"
   ]
  },
  {
   "cell_type": "code",
   "execution_count": 26,
   "metadata": {
    "collapsed": true
   },
   "outputs": [],
   "source": [
    "benchmarks_subset = benchmarks.ix[benchmarks.dataset.isin(benchmarks.dataset.unique()[3:])]\n",
    "plot_benchmarks_subset(benchmarks_subset)"
   ]
  },
  {
   "cell_type": "code",
   "execution_count": 31,
   "metadata": {
    "collapsed": true
   },
   "outputs": [],
   "source": [
    "plot_benchmarks_subset(benchmarks)"
   ]
  },
  {
   "cell_type": "code",
   "execution_count": 51,
   "metadata": {
    "collapsed": false
   },
   "outputs": [
    {
     "data": {
      "text/plain": [
       "array(['diabetes_scale', 'breast-cancer_scale', 'australian_scale',\n",
       "       'ionosphere_scale', 'german.numer_scale', 'heart_scale',\n",
       "       'liver-disorders_scale'], dtype=object)"
      ]
     },
     "execution_count": 51,
     "metadata": {},
     "output_type": "execute_result"
    }
   ],
   "source": [
    "benchmarks.dataset.unique()"
   ]
  },
  {
   "cell_type": "code",
   "execution_count": 32,
   "metadata": {
    "collapsed": false
   },
   "outputs": [],
   "source": [
    "lapsvm = pd.read_csv('data/remote/lapsvm_trzmiel.csv')\n",
    "lapsvm.ix[pd.isnull(lapsvm.estimator), 'estimator'] = 'Links'"
   ]
  },
  {
   "cell_type": "code",
   "execution_count": 33,
   "metadata": {
    "collapsed": false
   },
   "outputs": [
    {
     "data": {
      "text/html": [
       "<div>\n",
       "<table border=\"1\" class=\"dataframe\">\n",
       "  <thead>\n",
       "    <tr style=\"text-align: right;\">\n",
       "      <th></th>\n",
       "      <th>dataset</th>\n",
       "      <th>percent_labels</th>\n",
       "      <th>percent_links</th>\n",
       "      <th>percent_unlabeled</th>\n",
       "      <th>cv_split</th>\n",
       "      <th>rs_iters</th>\n",
       "      <th>rs_splits</th>\n",
       "      <th>rs_test_size</th>\n",
       "      <th>cv_score</th>\n",
       "      <th>test_score</th>\n",
       "      <th>beta</th>\n",
       "      <th>delta</th>\n",
       "      <th>alpha</th>\n",
       "      <th>gamma</th>\n",
       "      <th>estimator</th>\n",
       "      <th>gamma_I</th>\n",
       "      <th>gamma_A</th>\n",
       "    </tr>\n",
       "  </thead>\n",
       "  <tbody>\n",
       "    <tr>\n",
       "      <th>0</th>\n",
       "      <td>diabetes_scale</td>\n",
       "      <td>0.1</td>\n",
       "      <td>0.1</td>\n",
       "      <td>0.1</td>\n",
       "      <td>4.0</td>\n",
       "      <td>100.0</td>\n",
       "      <td>5.0</td>\n",
       "      <td>0.2</td>\n",
       "      <td>0.876923</td>\n",
       "      <td>0.694805</td>\n",
       "      <td>627.036243</td>\n",
       "      <td>62.386288</td>\n",
       "      <td>241.334168</td>\n",
       "      <td>10.0</td>\n",
       "      <td>Links</td>\n",
       "      <td>NaN</td>\n",
       "      <td>NaN</td>\n",
       "    </tr>\n",
       "    <tr>\n",
       "      <th>1</th>\n",
       "      <td>diabetes_scale</td>\n",
       "      <td>0.1</td>\n",
       "      <td>0.1</td>\n",
       "      <td>0.1</td>\n",
       "      <td>6.0</td>\n",
       "      <td>100.0</td>\n",
       "      <td>5.0</td>\n",
       "      <td>0.2</td>\n",
       "      <td>0.876923</td>\n",
       "      <td>0.616883</td>\n",
       "      <td>576.105660</td>\n",
       "      <td>14.394807</td>\n",
       "      <td>16.799070</td>\n",
       "      <td>10.0</td>\n",
       "      <td>Links</td>\n",
       "      <td>NaN</td>\n",
       "      <td>NaN</td>\n",
       "    </tr>\n",
       "    <tr>\n",
       "      <th>2</th>\n",
       "      <td>diabetes_scale</td>\n",
       "      <td>0.1</td>\n",
       "      <td>0.1</td>\n",
       "      <td>0.1</td>\n",
       "      <td>3.0</td>\n",
       "      <td>100.0</td>\n",
       "      <td>5.0</td>\n",
       "      <td>0.2</td>\n",
       "      <td>0.876923</td>\n",
       "      <td>0.740260</td>\n",
       "      <td>627.036243</td>\n",
       "      <td>62.386288</td>\n",
       "      <td>241.334168</td>\n",
       "      <td>10.0</td>\n",
       "      <td>Links</td>\n",
       "      <td>NaN</td>\n",
       "      <td>NaN</td>\n",
       "    </tr>\n",
       "    <tr>\n",
       "      <th>3</th>\n",
       "      <td>diabetes_scale</td>\n",
       "      <td>0.1</td>\n",
       "      <td>0.1</td>\n",
       "      <td>0.1</td>\n",
       "      <td>5.0</td>\n",
       "      <td>100.0</td>\n",
       "      <td>5.0</td>\n",
       "      <td>0.2</td>\n",
       "      <td>0.830769</td>\n",
       "      <td>0.636364</td>\n",
       "      <td>48.904148</td>\n",
       "      <td>4.068718</td>\n",
       "      <td>138.640532</td>\n",
       "      <td>100.0</td>\n",
       "      <td>Links</td>\n",
       "      <td>NaN</td>\n",
       "      <td>NaN</td>\n",
       "    </tr>\n",
       "    <tr>\n",
       "      <th>4</th>\n",
       "      <td>diabetes_scale</td>\n",
       "      <td>0.1</td>\n",
       "      <td>0.1</td>\n",
       "      <td>0.1</td>\n",
       "      <td>0.0</td>\n",
       "      <td>100.0</td>\n",
       "      <td>5.0</td>\n",
       "      <td>0.2</td>\n",
       "      <td>0.830769</td>\n",
       "      <td>0.766234</td>\n",
       "      <td>473.126960</td>\n",
       "      <td>0.355701</td>\n",
       "      <td>817.840352</td>\n",
       "      <td>10.0</td>\n",
       "      <td>Links</td>\n",
       "      <td>NaN</td>\n",
       "      <td>NaN</td>\n",
       "    </tr>\n",
       "  </tbody>\n",
       "</table>\n",
       "</div>"
      ],
      "text/plain": [
       "          dataset  percent_labels  percent_links  percent_unlabeled  cv_split  \\\n",
       "0  diabetes_scale             0.1            0.1                0.1       4.0   \n",
       "1  diabetes_scale             0.1            0.1                0.1       6.0   \n",
       "2  diabetes_scale             0.1            0.1                0.1       3.0   \n",
       "3  diabetes_scale             0.1            0.1                0.1       5.0   \n",
       "4  diabetes_scale             0.1            0.1                0.1       0.0   \n",
       "\n",
       "   rs_iters  rs_splits  rs_test_size  cv_score  test_score        beta  \\\n",
       "0     100.0        5.0           0.2  0.876923    0.694805  627.036243   \n",
       "1     100.0        5.0           0.2  0.876923    0.616883  576.105660   \n",
       "2     100.0        5.0           0.2  0.876923    0.740260  627.036243   \n",
       "3     100.0        5.0           0.2  0.830769    0.636364   48.904148   \n",
       "4     100.0        5.0           0.2  0.830769    0.766234  473.126960   \n",
       "\n",
       "       delta       alpha  gamma estimator  gamma_I  gamma_A  \n",
       "0  62.386288  241.334168   10.0     Links      NaN      NaN  \n",
       "1  14.394807   16.799070   10.0     Links      NaN      NaN  \n",
       "2  62.386288  241.334168   10.0     Links      NaN      NaN  \n",
       "3   4.068718  138.640532  100.0     Links      NaN      NaN  \n",
       "4   0.355701  817.840352   10.0     Links      NaN      NaN  "
      ]
     },
     "execution_count": 33,
     "metadata": {},
     "output_type": "execute_result"
    }
   ],
   "source": [
    "lapsvm.head()"
   ]
  },
  {
   "cell_type": "code",
   "execution_count": 36,
   "metadata": {
    "collapsed": true
   },
   "outputs": [],
   "source": [
    "def plot_lapsvm_subset(lapsvm_subset):\n",
    "    fig, axs= plt.subplots(ncols=len(lapsvm_subset.percent_labels.unique()), nrows=len(lapsvm_subset.dataset.unique()))\n",
    "\n",
    "    for i_ds, (ds_name, ds_df) in enumerate(lapsvm_subset.groupby('dataset')):\n",
    "        for i_percent, (p_labels, percent_subset) in enumerate(ds_df.groupby('percent_labels')):\n",
    "            \n",
    "            #print(percent_subset.estimator.unique())\n",
    "            ax = axs[i_ds, i_percent]\n",
    "            if i_percent == 0:\n",
    "                ax.set_title(ds_name)\n",
    "            ax.set_xlim(0, 0.5)\n",
    "            #ax.set_xlabel('% unlabeled')\n",
    "            # ax.set_ylim(0.55, 1)\n",
    "            ax.set_ylim(percent_subset.test_score.min(), percent_subset.test_score.max())\n",
    "            #ax.set_ylabel('accuracy')\n",
    "\n",
    "            lapsvm_scores = percent_subset.ix[percent_subset.estimator == 'LapSVM']\n",
    "            \n",
    "            links_scores = percent_subset.ix[percent_subset.estimator == 'Links']\n",
    "            links_score_by_plinks = links_scores['test_score'].groupby(links_scores['percent_links']).agg('mean')\n",
    "            #assert svm_scores.\n",
    "            ax.plot([0, 0.5], [lapsvm_scores.test_score.mean()]*2, 'g--', label='LapSVM')\n",
    "            ax.plot(links_score_by_plinks.index.values, links_score_by_plinks.values, 'r', label='Links')\n",
    "        #break\n",
    "    #fig.tight_layout(pad=0.11, w_pad=0.1, h_pad=0.05)\n",
    "    fig.subplots_adjust(left=0.05, bottom=0.05, right=0.95, top=0.95,\n",
    "                    wspace=0.07, hspace=0.05)"
   ]
  },
  {
   "cell_type": "code",
   "execution_count": 37,
   "metadata": {
    "collapsed": false
   },
   "outputs": [],
   "source": [
    "plot_lapsvm_subset(lapsvm)"
   ]
  },
  {
   "cell_type": "code",
   "execution_count": 67,
   "metadata": {
    "collapsed": false
   },
   "outputs": [
    {
     "data": {
      "text/plain": [
       "array([ 0.1,  0.2,  0.3,  0.4,  0.5,  0. ])"
      ]
     },
     "execution_count": 67,
     "metadata": {},
     "output_type": "execute_result"
    }
   ],
   "source": [
    "lapsvm.percent_links.unique()"
   ]
  },
  {
   "cell_type": "code",
   "execution_count": null,
   "metadata": {
    "collapsed": true
   },
   "outputs": [],
   "source": []
  }
 ],
 "metadata": {
  "kernelspec": {
   "display_name": "Python 2",
   "language": "python",
   "name": "python2"
  },
  "language_info": {
   "codemirror_mode": {
    "name": "ipython",
    "version": 2
   },
   "file_extension": ".py",
   "mimetype": "text/x-python",
   "name": "python",
   "nbconvert_exporter": "python",
   "pygments_lexer": "ipython2",
   "version": "2.7.11"
  }
 },
 "nbformat": 4,
 "nbformat_minor": 0
}
