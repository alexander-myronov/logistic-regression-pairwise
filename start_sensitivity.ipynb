{
 "cells": [
  {
   "cell_type": "code",
   "execution_count": 1,
   "metadata": {
    "collapsed": true
   },
   "outputs": [],
   "source": [
    "import numpy as np\n",
    "import pandas as pd\n",
    "import matplotlib.pyplot as plt\n",
    "\n",
    "import os\n",
    "import itertools\n",
    "from collections import OrderedDict\n",
    "from functools import partial\n",
    "\n",
    "from sklearn.datasets import load_svmlight_file, make_circles\n",
    "\n",
    "\n",
    "from links import LinksClassifier\n",
    "from logit import LogisticRegressionPairwise, LogisticRegression\n",
    "\n",
    "\n",
    "from sklearn.model_selection import ParameterGrid, StratifiedShuffleSplit, GridSearchCV\n",
    "from sklearn.preprocessing import StandardScaler\n",
    "from sklearn.model_selection import train_test_split\n",
    "\n",
    "from tqdm import tqdm_notebook as tqdm\n",
    "\n",
    "from new_experiment_runner.cacher import CSVCacher"
   ]
  },
  {
   "cell_type": "code",
   "execution_count": 2,
   "metadata": {
    "collapsed": false
   },
   "outputs": [],
   "source": [
    "%matplotlib inline\n",
    "%load_ext autoreload\n",
    "%autoreload 2"
   ]
  },
  {
   "cell_type": "code",
   "execution_count": 3,
   "metadata": {
    "collapsed": false
   },
   "outputs": [],
   "source": [
    "%reload_ext autoreload"
   ]
  },
  {
   "cell_type": "code",
   "execution_count": 4,
   "metadata": {
    "collapsed": true
   },
   "outputs": [],
   "source": [
    "%autoreload"
   ]
  },
  {
   "cell_type": "code",
   "execution_count": 60,
   "metadata": {
    "collapsed": true
   },
   "outputs": [],
   "source": [
    "datafiles_toy = [\n",
    "    r'data/diabetes_scale.libsvm',\n",
    "    r'data/breast-cancer_scale.libsvm',\n",
    "]"
   ]
  },
  {
   "cell_type": "code",
   "execution_count": 79,
   "metadata": {
    "collapsed": true
   },
   "outputs": [],
   "source": [
    "datasets = OrderedDict([(os.path.split(f)[-1].replace('.libsvm', ''),\n",
    "                             load_svmlight_file(f))\n",
    "                            for f in datafiles_toy])"
   ]
  },
  {
   "cell_type": "code",
   "execution_count": 80,
   "metadata": {
    "collapsed": true
   },
   "outputs": [],
   "source": [
    "datasets['circles'] = make_circles(n_samples=400, noise=0.1, factor=0.51)\n",
    "datasets['moons'] = make_circles(n_samples=400, noise=0.1)"
   ]
  },
  {
   "cell_type": "code",
   "execution_count": 5,
   "metadata": {
    "collapsed": true
   },
   "outputs": [],
   "source": [
    "results = pd.read_csv('data/results_sens.csv')"
   ]
  },
  {
   "cell_type": "code",
   "execution_count": 6,
   "metadata": {
    "collapsed": false
   },
   "outputs": [
    {
     "data": {
      "text/plain": [
       "((900, 5),\n",
       " Index([u'k', u'method', u'dataset', u'loss', u'train_score'], dtype='object'))"
      ]
     },
     "execution_count": 6,
     "metadata": {},
     "output_type": "execute_result"
    }
   ],
   "source": [
    "results.shape, results.columns"
   ]
  },
  {
   "cell_type": "code",
   "execution_count": 10,
   "metadata": {
    "collapsed": false
   },
   "outputs": [
    {
     "data": {
      "text/html": [
       "<div>\n",
       "<table border=\"1\" class=\"dataframe\">\n",
       "  <thead>\n",
       "    <tr style=\"text-align: right;\">\n",
       "      <th></th>\n",
       "      <th>k</th>\n",
       "      <th>method</th>\n",
       "      <th>dataset</th>\n",
       "      <th>loss</th>\n",
       "      <th>train_score</th>\n",
       "    </tr>\n",
       "  </thead>\n",
       "  <tbody>\n",
       "    <tr>\n",
       "      <th>0</th>\n",
       "      <td>0.0</td>\n",
       "      <td>zeros</td>\n",
       "      <td>diabetes_scale</td>\n",
       "      <td>56.357508</td>\n",
       "      <td>0.695652</td>\n",
       "    </tr>\n",
       "    <tr>\n",
       "      <th>1</th>\n",
       "      <td>1.0</td>\n",
       "      <td>zeros</td>\n",
       "      <td>diabetes_scale</td>\n",
       "      <td>56.357508</td>\n",
       "      <td>0.695652</td>\n",
       "    </tr>\n",
       "    <tr>\n",
       "      <th>2</th>\n",
       "      <td>2.0</td>\n",
       "      <td>zeros</td>\n",
       "      <td>diabetes_scale</td>\n",
       "      <td>56.357508</td>\n",
       "      <td>0.695652</td>\n",
       "    </tr>\n",
       "    <tr>\n",
       "      <th>3</th>\n",
       "      <td>3.0</td>\n",
       "      <td>zeros</td>\n",
       "      <td>diabetes_scale</td>\n",
       "      <td>56.357508</td>\n",
       "      <td>0.695652</td>\n",
       "    </tr>\n",
       "    <tr>\n",
       "      <th>4</th>\n",
       "      <td>4.0</td>\n",
       "      <td>zeros</td>\n",
       "      <td>diabetes_scale</td>\n",
       "      <td>56.357508</td>\n",
       "      <td>0.695652</td>\n",
       "    </tr>\n",
       "  </tbody>\n",
       "</table>\n",
       "</div>"
      ],
      "text/plain": [
       "     k method         dataset       loss  train_score\n",
       "0  0.0  zeros  diabetes_scale  56.357508     0.695652\n",
       "1  1.0  zeros  diabetes_scale  56.357508     0.695652\n",
       "2  2.0  zeros  diabetes_scale  56.357508     0.695652\n",
       "3  3.0  zeros  diabetes_scale  56.357508     0.695652\n",
       "4  4.0  zeros  diabetes_scale  56.357508     0.695652"
      ]
     },
     "execution_count": 10,
     "metadata": {},
     "output_type": "execute_result"
    }
   ],
   "source": [
    "results.head()"
   ]
  },
  {
   "cell_type": "code",
   "execution_count": 20,
   "metadata": {
    "collapsed": false
   },
   "outputs": [],
   "source": [
    "df = pd.groupby(results, by=['dataset', 'method']).agg({'loss': [np.std]}).unstack(level=-1)"
   ]
  },
  {
   "cell_type": "code",
   "execution_count": 23,
   "metadata": {
    "collapsed": false
   },
   "outputs": [
    {
     "data": {
      "text/html": [
       "<div>\n",
       "<table border=\"1\" class=\"dataframe\">\n",
       "  <thead>\n",
       "    <tr style=\"text-align: right;\">\n",
       "      <th></th>\n",
       "      <th></th>\n",
       "      <th>dataset</th>\n",
       "      <th>circles</th>\n",
       "      <th>diabetes_scale</th>\n",
       "      <th>moons</th>\n",
       "    </tr>\n",
       "    <tr>\n",
       "      <th></th>\n",
       "      <th></th>\n",
       "      <th>method</th>\n",
       "      <th></th>\n",
       "      <th></th>\n",
       "      <th></th>\n",
       "    </tr>\n",
       "  </thead>\n",
       "  <tbody>\n",
       "    <tr>\n",
       "      <th rowspan=\"6\" valign=\"top\">loss</th>\n",
       "      <th rowspan=\"6\" valign=\"top\">std</th>\n",
       "      <th>normal</th>\n",
       "      <td>4.548139e-08</td>\n",
       "      <td>6.684074e-09</td>\n",
       "      <td>7.496055e-09</td>\n",
       "    </tr>\n",
       "    <tr>\n",
       "      <th>normal_multivariate</th>\n",
       "      <td>1.652018e-08</td>\n",
       "      <td>7.265744e-09</td>\n",
       "      <td>5.570900e-09</td>\n",
       "    </tr>\n",
       "    <tr>\n",
       "      <th>normal_univariate</th>\n",
       "      <td>3.075394e-08</td>\n",
       "      <td>7.646498e-09</td>\n",
       "      <td>2.445021e-09</td>\n",
       "    </tr>\n",
       "    <tr>\n",
       "      <th>random_labels</th>\n",
       "      <td>9.307598e-09</td>\n",
       "      <td>2.440747e-09</td>\n",
       "      <td>6.107176e-09</td>\n",
       "    </tr>\n",
       "    <tr>\n",
       "      <th>random_links_diff</th>\n",
       "      <td>2.116533e-08</td>\n",
       "      <td>3.410780e-09</td>\n",
       "      <td>7.626612e-09</td>\n",
       "    </tr>\n",
       "    <tr>\n",
       "      <th>zeros</th>\n",
       "      <td>0.000000e+00</td>\n",
       "      <td>5.206897e-10</td>\n",
       "      <td>0.000000e+00</td>\n",
       "    </tr>\n",
       "  </tbody>\n",
       "</table>\n",
       "</div>"
      ],
      "text/plain": [
       "dataset                            circles  diabetes_scale         moons\n",
       "         method                                                         \n",
       "loss std normal               4.548139e-08    6.684074e-09  7.496055e-09\n",
       "         normal_multivariate  1.652018e-08    7.265744e-09  5.570900e-09\n",
       "         normal_univariate    3.075394e-08    7.646498e-09  2.445021e-09\n",
       "         random_labels        9.307598e-09    2.440747e-09  6.107176e-09\n",
       "         random_links_diff    2.116533e-08    3.410780e-09  7.626612e-09\n",
       "         zeros                0.000000e+00    5.206897e-10  0.000000e+00"
      ]
     },
     "execution_count": 23,
     "metadata": {},
     "output_type": "execute_result"
    }
   ],
   "source": [
    "df.T\n"
   ]
  },
  {
   "cell_type": "code",
   "execution_count": 24,
   "metadata": {
    "collapsed": false
   },
   "outputs": [],
   "source": [
    "with open('data\\start.tex', 'w') as f: \n",
    "     df.T.to_latex(f)"
   ]
  },
  {
   "cell_type": "code",
   "execution_count": null,
   "metadata": {
    "collapsed": true
   },
   "outputs": [],
   "source": []
  }
 ],
 "metadata": {
  "kernelspec": {
   "display_name": "Python 2",
   "language": "python",
   "name": "python2"
  },
  "language_info": {
   "codemirror_mode": {
    "name": "ipython",
    "version": 2
   },
   "file_extension": ".py",
   "mimetype": "text/x-python",
   "name": "python",
   "nbconvert_exporter": "python",
   "pygments_lexer": "ipython2",
   "version": "2.7.11"
  }
 },
 "nbformat": 4,
 "nbformat_minor": 0
}
