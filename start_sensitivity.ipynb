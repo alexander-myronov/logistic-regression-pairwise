{
 "cells": [
  {
   "cell_type": "code",
   "execution_count": 1,
   "metadata": {
    "collapsed": true
   },
   "outputs": [],
   "source": [
    "import numpy as np\n",
    "import pandas as pd\n",
    "import matplotlib.pyplot as plt\n",
    "\n",
    "import os\n",
    "import itertools\n",
    "from collections import OrderedDict\n",
    "from functools import partial\n",
    "\n",
    "from sklearn.datasets import load_svmlight_file\n",
    "\n",
    "\n",
    "from links import LinksClassifier\n",
    "from logit import LogisticRegressionPairwise, LogisticRegression\n",
    "\n",
    "\n",
    "from sklearn.model_selection import ParameterGrid, StratifiedShuffleSplit, GridSearchCV\n",
    "\n",
    "from tqdm import tqdm_notebook as tqdm"
   ]
  },
  {
   "cell_type": "code",
   "execution_count": 2,
   "metadata": {
    "collapsed": true
   },
   "outputs": [],
   "source": [
    "%matplotlib inline\n",
    "%load_ext autoreload\n",
    "%autoreload 2"
   ]
  },
  {
   "cell_type": "code",
   "execution_count": 4,
   "metadata": {
    "collapsed": true
   },
   "outputs": [],
   "source": [
    "datafiles_toy = [\n",
    "    r'data/diabetes_scale.libsvm',\n",
    "    r'data/australian_scale.libsvm',\n",
    "    r'data/breast-cancer_scale.libsvm',\n",
    "    r'data/german.numer_scale.libsvm',\n",
    "    r'data/ionosphere_scale.libsvm',\n",
    "    r'data/liver-disorders_scale.libsvm',\n",
    "    r'data/heart_scale.libsvm',\n",
    "]"
   ]
  },
  {
   "cell_type": "code",
   "execution_count": 5,
   "metadata": {
    "collapsed": true
   },
   "outputs": [],
   "source": [
    "def loader(name):\n",
    "    from sklearn.datasets import load_svmlight_file\n",
    "    from scipy.sparse import issparse\n",
    "    filename = 'data/%s.libsvm' % name\n",
    "    if not name in globals():\n",
    "        X, y = load_svmlight_file(filename)\n",
    "        if issparse(X):\n",
    "            X = X.toarray()\n",
    "        globals()[name] = (X, y)\n",
    "    return globals()[name]"
   ]
  },
  {
   "cell_type": "code",
   "execution_count": 6,
   "metadata": {
    "collapsed": true
   },
   "outputs": [],
   "source": [
    "datasets = OrderedDict([(os.path.split(f)[-1].replace('.libsvm', ''),\n",
    "                             partial(loader, os.path.split(f)[-1].replace('.libsvm', '')))\n",
    "                            for f in datafiles_toy])"
   ]
  },
  {
   "cell_type": "code",
   "execution_count": 7,
   "metadata": {
    "collapsed": true
   },
   "outputs": [],
   "source": [
    "X, y= datasets.values()[0]()"
   ]
  },
  {
   "cell_type": "code",
   "execution_count": null,
   "metadata": {
    "collapsed": true
   },
   "outputs": [],
   "source": [
    "def split_dataset(X,y, percent_labels, percent_links):\n",
    "    X1, X2, z = sample_links_random(X, y, percent_links)\n",
    "    n_labels = int(len(y) * percent_labels)\n",
    "    labels_choice = next(StratifiedShuffleSplit(n_splits=1, train_size=percent_labels).split(X, y))[0]\n",
    "    return X[labels_choice], y[labels_choice], X1, X2, z"
   ]
  },
  {
   "cell_type": "code",
   "execution_count": 8,
   "metadata": {
    "collapsed": false
   },
   "outputs": [
    {
     "ename": "NameError",
     "evalue": "name 'split_dataset' is not defined",
     "output_type": "error",
     "traceback": [
      "\u001b[0;31m---------------------------------------------------------------------------\u001b[0m",
      "\u001b[0;31mNameError\u001b[0m                                 Traceback (most recent call last)",
      "\u001b[0;32m<ipython-input-8-2dd1ae7e2763>\u001b[0m in \u001b[0;36m<module>\u001b[0;34m()\u001b[0m\n\u001b[0;32m----> 1\u001b[0;31m \u001b[0mX_r\u001b[0m\u001b[1;33m,\u001b[0m\u001b[0my_r\u001b[0m\u001b[1;33m,\u001b[0m \u001b[0mX1\u001b[0m\u001b[1;33m,\u001b[0m \u001b[0mX2\u001b[0m\u001b[1;33m,\u001b[0m \u001b[0mz\u001b[0m \u001b[1;33m=\u001b[0m \u001b[0msplit_dataset\u001b[0m\u001b[1;33m(\u001b[0m\u001b[0mX\u001b[0m\u001b[1;33m,\u001b[0m \u001b[0my\u001b[0m\u001b[1;33m,\u001b[0m \u001b[0mpercent_labels\u001b[0m\u001b[1;33m=\u001b[0m\u001b[1;36m0.4\u001b[0m\u001b[1;33m,\u001b[0m \u001b[0mpercent_links\u001b[0m\u001b[1;33m=\u001b[0m\u001b[1;36m0.3\u001b[0m\u001b[1;33m)\u001b[0m\u001b[1;33m\u001b[0m\u001b[0m\n\u001b[0m",
      "\u001b[0;31mNameError\u001b[0m: name 'split_dataset' is not defined"
     ]
    }
   ],
   "source": [
    "X_r,y_r, X1, X2, z = split_dataset(X, y, percent_labels=0.4, percent_links=0.3)"
   ]
  },
  {
   "cell_type": "code",
   "execution_count": null,
   "metadata": {
    "collapsed": true
   },
   "outputs": [],
   "source": [
    " "
   ]
  }
 ],
 "metadata": {
  "kernelspec": {
   "display_name": "Python 2",
   "language": "python",
   "name": "python2"
  },
  "language_info": {
   "codemirror_mode": {
    "name": "ipython",
    "version": 2
   },
   "file_extension": ".py",
   "mimetype": "text/x-python",
   "name": "python",
   "nbconvert_exporter": "python",
   "pygments_lexer": "ipython2",
   "version": "2.7.11"
  }
 },
 "nbformat": 4,
 "nbformat_minor": 0
}
