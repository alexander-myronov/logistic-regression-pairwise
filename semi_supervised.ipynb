{
 "cells": [
  {
   "cell_type": "code",
   "execution_count": 1,
   "metadata": {
    "collapsed": true
   },
   "outputs": [],
   "source": [
    "import numpy as np\n",
    "import pandas as pd\n",
    "import matplotlib.pyplot as plt\n",
    "\n",
    "import os\n",
    "import itertools\n",
    "from collections import OrderedDict\n",
    "from functools import partial\n",
    "\n",
    "from sklearn.datasets import load_svmlight_file, make_circles\n",
    "\n",
    "\n",
    "from links import LinksClassifier\n",
    "from logit import LogisticRegressionPairwise, LogisticRegression\n",
    "\n",
    "\n",
    "from sklearn.model_selection import ParameterGrid, StratifiedShuffleSplit, GridSearchCV\n",
    "from sklearn.preprocessing import StandardScaler\n",
    "from sklearn.model_selection import train_test_split\n",
    "\n",
    "from tqdm import tqdm_notebook as tqdm\n",
    "\n",
    "from new_experiment_runner.cacher import CSVCacher"
   ]
  },
  {
   "cell_type": "code",
   "execution_count": 2,
   "metadata": {
    "collapsed": true
   },
   "outputs": [],
   "source": [
    "%matplotlib inline\n",
    "%load_ext autoreload\n",
    "%autoreload 2"
   ]
  },
  {
   "cell_type": "code",
   "execution_count": 3,
   "metadata": {
    "collapsed": true
   },
   "outputs": [],
   "source": [
    "semi = pd.read_csv('data/semi_tnc.csv')"
   ]
  },
  {
   "cell_type": "code",
   "execution_count": 4,
   "metadata": {
    "collapsed": false
   },
   "outputs": [
    {
     "data": {
      "text/html": [
       "<div>\n",
       "<table border=\"1\" class=\"dataframe\">\n",
       "  <thead>\n",
       "    <tr style=\"text-align: right;\">\n",
       "      <th></th>\n",
       "      <th>cv_split</th>\n",
       "      <th>percent_unlabeled</th>\n",
       "      <th>percent_links</th>\n",
       "      <th>dataset</th>\n",
       "      <th>estimator</th>\n",
       "      <th>cv_random_state</th>\n",
       "      <th>percent_labels</th>\n",
       "      <th>test_score</th>\n",
       "      <th>train_score</th>\n",
       "    </tr>\n",
       "  </thead>\n",
       "  <tbody>\n",
       "    <tr>\n",
       "      <th>0</th>\n",
       "      <td>0.0</td>\n",
       "      <td>0.2</td>\n",
       "      <td>0.2</td>\n",
       "      <td>diabetes_scale</td>\n",
       "      <td>LinksClassifier-labels-links</td>\n",
       "      <td>42.0</td>\n",
       "      <td>0.2</td>\n",
       "      <td>0.714286</td>\n",
       "      <td>0.754098</td>\n",
       "    </tr>\n",
       "    <tr>\n",
       "      <th>1</th>\n",
       "      <td>1.0</td>\n",
       "      <td>0.2</td>\n",
       "      <td>0.2</td>\n",
       "      <td>diabetes_scale</td>\n",
       "      <td>LinksClassifier-labels-links</td>\n",
       "      <td>42.0</td>\n",
       "      <td>0.2</td>\n",
       "      <td>0.727273</td>\n",
       "      <td>0.754098</td>\n",
       "    </tr>\n",
       "    <tr>\n",
       "      <th>2</th>\n",
       "      <td>2.0</td>\n",
       "      <td>0.2</td>\n",
       "      <td>0.2</td>\n",
       "      <td>diabetes_scale</td>\n",
       "      <td>LinksClassifier-labels-links</td>\n",
       "      <td>42.0</td>\n",
       "      <td>0.2</td>\n",
       "      <td>0.720779</td>\n",
       "      <td>0.737705</td>\n",
       "    </tr>\n",
       "    <tr>\n",
       "      <th>3</th>\n",
       "      <td>3.0</td>\n",
       "      <td>0.2</td>\n",
       "      <td>0.2</td>\n",
       "      <td>diabetes_scale</td>\n",
       "      <td>LinksClassifier-labels-links</td>\n",
       "      <td>42.0</td>\n",
       "      <td>0.2</td>\n",
       "      <td>0.714286</td>\n",
       "      <td>0.745902</td>\n",
       "    </tr>\n",
       "    <tr>\n",
       "      <th>4</th>\n",
       "      <td>4.0</td>\n",
       "      <td>0.2</td>\n",
       "      <td>0.2</td>\n",
       "      <td>diabetes_scale</td>\n",
       "      <td>LinksClassifier-labels-links</td>\n",
       "      <td>42.0</td>\n",
       "      <td>0.2</td>\n",
       "      <td>0.655844</td>\n",
       "      <td>0.696721</td>\n",
       "    </tr>\n",
       "  </tbody>\n",
       "</table>\n",
       "</div>"
      ],
      "text/plain": [
       "   cv_split  percent_unlabeled  percent_links         dataset  \\\n",
       "0       0.0                0.2            0.2  diabetes_scale   \n",
       "1       1.0                0.2            0.2  diabetes_scale   \n",
       "2       2.0                0.2            0.2  diabetes_scale   \n",
       "3       3.0                0.2            0.2  diabetes_scale   \n",
       "4       4.0                0.2            0.2  diabetes_scale   \n",
       "\n",
       "                      estimator  cv_random_state  percent_labels  test_score  \\\n",
       "0  LinksClassifier-labels-links             42.0             0.2    0.714286   \n",
       "1  LinksClassifier-labels-links             42.0             0.2    0.727273   \n",
       "2  LinksClassifier-labels-links             42.0             0.2    0.720779   \n",
       "3  LinksClassifier-labels-links             42.0             0.2    0.714286   \n",
       "4  LinksClassifier-labels-links             42.0             0.2    0.655844   \n",
       "\n",
       "   train_score  \n",
       "0     0.754098  \n",
       "1     0.754098  \n",
       "2     0.737705  \n",
       "3     0.745902  \n",
       "4     0.696721  "
      ]
     },
     "execution_count": 4,
     "metadata": {},
     "output_type": "execute_result"
    }
   ],
   "source": [
    "semi.head()"
   ]
  },
  {
   "cell_type": "code",
   "execution_count": 8,
   "metadata": {
    "collapsed": false
   },
   "outputs": [],
   "source": [
    "grouped = pd.groupby(semi, by=['dataset', 'estimator']).agg({'test_score': [np.mean, np.std], 'train_score':[np.mean, np.std]}).unstack(level=-1)"
   ]
  },
  {
   "cell_type": "code",
   "execution_count": 11,
   "metadata": {
    "collapsed": false
   },
   "outputs": [
    {
     "data": {
      "text/plain": [
       "MultiIndex(levels=[[u'test_score', u'train_score'], [u'mean', u'std'], [u'LinksClassifier-labels-links', u'LinksClassifier-labels-links-unlabeled']],\n",
       "           labels=[[0, 0, 0, 0, 1, 1, 1, 1], [0, 0, 1, 1, 0, 0, 1, 1], [0, 1, 0, 1, 0, 1, 0, 1]],\n",
       "           names=[None, None, u'estimator'])"
      ]
     },
     "execution_count": 11,
     "metadata": {},
     "output_type": "execute_result"
    }
   ],
   "source": [
    "grouped.columns"
   ]
  },
  {
   "cell_type": "code",
   "execution_count": 15,
   "metadata": {
    "collapsed": false
   },
   "outputs": [
    {
     "data": {
      "text/plain": [
       "<matplotlib.axes._subplots.AxesSubplot at 0x10d119e8>"
      ]
     },
     "execution_count": 15,
     "metadata": {},
     "output_type": "execute_result"
    },
    {
     "data": {
      "image/png": "[encoded data removed]",
      "text/plain": [
       "<matplotlib.figure.Figure at 0x10c3b9e8>"
      ]
     },
     "metadata": {},
     "output_type": "display_data"
    }
   ],
   "source": [
    "semi.boxplot(column='test_score', by=['estimator', 'dataset'])"
   ]
  },
  {
   "cell_type": "code",
   "execution_count": 36,
   "metadata": {
    "collapsed": false
   },
   "outputs": [
    {
     "data": {
      "image/png": "[encoded data removed]",
      "text/plain": [
       "<matplotlib.figure.Figure at 0x13b96f28>"
      ]
     },
     "metadata": {},
     "output_type": "display_data"
    }
   ],
   "source": [
    "fig, ax = plt.subplots()\n",
    "semi\n",
    "for i, est in enumerate(semi.estimator.unique()):\n",
    "    df = semi.ix[semi['estimator'] == est]\n",
    "    if i == 0:\n",
    "        offset = -0.25\n",
    "        c = 'g'\n",
    "    elif i == 1:\n",
    "        offset = 0.25\n",
    "        c = 'r'\n",
    "    df.boxplot(column='test_score', by='dataset', ax=ax, rot=90,positions=np.arange(2, 7)+ offset)"
   ]
  },
  {
   "cell_type": "code",
   "execution_count": 57,
   "metadata": {
    "collapsed": false
   },
   "outputs": [],
   "source": [
    "\n",
    "train_data = []\n",
    "test_data = []\n",
    "datasets = []\n",
    "for (ds_name, estimator), df in pd.groupby(semi, by=['dataset', 'estimator']):\n",
    "    train_data.append(df['train_score'].values)\n",
    "    test_data.append(df['test_score'].values)\n",
    "    \n",
    "    #df['train_score'].boxplot(ax=ax)"
   ]
  },
  {
   "cell_type": "code",
   "execution_count": 125,
   "metadata": {
    "collapsed": false
   },
   "outputs": [],
   "source": [
    "from matplotlib.patches import Polygon\n",
    "fig, ax1 = plt.subplots(figsize=(10, 6))\n",
    "plt.subplots_adjust(left=0.075, right=0.95, top=0.9, bottom=0.25)\n",
    "\n",
    "bp = plt.boxplot(train_data, notch=0, sym='+', vert=1, whis=1.5)\n",
    "bp2 = plt.boxplot(test_data, notch=0, sym='+', vert=1, whis=1.5, positions=np.arange(1, len(data)+1)+0.35)\n",
    "plt.setp(bp['boxes'], color='black')\n",
    "plt.setp(bp['whiskers'], color='black')\n",
    "plt.setp(bp['fliers'], color='red', marker='+')\n",
    "\n",
    "plt.setp(bp2['boxes'], color='black')\n",
    "plt.setp(bp2['whiskers'], color='black')\n",
    "plt.setp(bp2['fliers'], color='red', marker='+')\n",
    "\n",
    "# Add a horizontal grid to the plot, but make it very light in color\n",
    "# so we can use it for reading data values but not be distracting\n",
    "ax1.yaxis.grid(True, linestyle='-', which='major', color='lightgrey',\n",
    "               alpha=0.5)\n",
    "\n",
    "# Hide these grid behind plot objects\n",
    "ax1.set_axisbelow(True)\n",
    "ax1.set_title('Comparison of training with and withoug unlabeled data')\n",
    "ax1.set_xlabel('Dataset')\n",
    "ax1.set_ylabel('Accuracy')\n",
    "\n",
    "# Now fill the boxes with desired colors\n",
    "boxColors = ['darkkhaki', 'royalblue']\n",
    "numBoxes = len(data)\n",
    "medians_train = list(range(numBoxes))\n",
    "for i in range(numBoxes):\n",
    "    box = bp['boxes'][i]\n",
    "    boxX = []\n",
    "    boxY = []\n",
    "    for j in range(5):\n",
    "        boxX.append(box.get_xdata()[j])\n",
    "        boxY.append(box.get_ydata()[j])\n",
    "    boxCoords = list(zip(boxX, boxY))\n",
    "    # Alternate between Dark Khaki and Royal Blue\n",
    "    k = i % 2\n",
    "    boxPolygon = Polygon(boxCoords, facecolor=boxColors[k])\n",
    "    ax1.add_patch(boxPolygon)\n",
    "    # Now draw the median lines back over what we just filled in\n",
    "    med = bp['medians'][i]\n",
    "    medianX = []\n",
    "    medianY = []\n",
    "    for j in range(2):\n",
    "        medianX.append(med.get_xdata()[j])\n",
    "        medianY.append(med.get_ydata()[j])\n",
    "        plt.plot(medianX, medianY, 'k')\n",
    "        medians_train[i] = medianY[0]\n",
    "    # Finally, overplot the sample averages, with horizontal alignment\n",
    "    # in the center of each box\n",
    "#     plt.plot([np.average(med.get_xdata())], [np.average(train_data[i])],\n",
    "#              color='w', marker='*', markeredgecolor='k')\n",
    "    \n",
    "boxColors = ['darkkhaki', 'royalblue']\n",
    "numBoxes = len(test_data)\n",
    "medians_test = list(range(numBoxes))\n",
    "for i in range(numBoxes):\n",
    "    box = bp2['boxes'][i]\n",
    "    boxX = []\n",
    "    boxY = []\n",
    "    for j in range(5):\n",
    "        boxX.append(box.get_xdata()[j])\n",
    "        boxY.append(box.get_ydata()[j])\n",
    "    boxCoords = list(zip(boxX, boxY))\n",
    "    # Alternate between Dark Khaki and Royal Blue\n",
    "    k = i % 2\n",
    "    boxPolygon = Polygon(boxCoords, facecolor=boxColors[k])\n",
    "    ax1.add_patch(boxPolygon)\n",
    "    # Now draw the median lines back over what we just filled in\n",
    "    med = bp2['medians'][i]\n",
    "    medianX = []\n",
    "    medianY = []\n",
    "    for j in range(2):\n",
    "        medianX.append(med.get_xdata()[j])\n",
    "        medianY.append(med.get_ydata()[j])\n",
    "        plt.plot(medianX, medianY, 'k')\n",
    "        medians_test[i] = medianY[0]\n",
    "    # Finally, overplot the sample averages, with horizontal alignment\n",
    "    # in the center of each box\n",
    "#     plt.plot([np.average(med.get_xdata())], [np.average(test_data[i])],\n",
    "#              color='w', marker='*', markeredgecolor='k')\n",
    "\n",
    "# Set the axes ranges and axes labels\n",
    "ax1.set_xlim(0.5, numBoxes + 0.5)\n",
    "top = 1.1\n",
    "bottom = 0.6\n",
    "ax1.set_ylim(bottom, top)\n",
    "positions = np.sort(np.concatenate([np.arange(1, len(train_data)+1), np.arange(1, len(test_data)+1)+0.35]))\n",
    "positions = positions.reshape(-1, 2).mean(axis=1) \n",
    "\n",
    "ax1.set_xticks(positions)\n",
    "xtickNames = plt.setp(ax1, xticklabels=np.repeat(semi.dataset.unique(), 2))\n",
    "plt.setp(xtickNames, rotation=45, fontsize=8)\n",
    "\n",
    "\n",
    "\n",
    "# Due to the Y-axis scale being different across samples, it can be\n",
    "# hard to compare differences in medians across the samples. Add upper\n",
    "# X-axis tick labels with the sample medians to aid in comparison\n",
    "# (just use two decimal places of precision)\n",
    "pos = np.arange(numBoxes) + 1\n",
    "upperLabels = [str(np.round(s, 2)) for s in medians_train]\n",
    "weights = ['bold', 'semibold']\n",
    "for tick, label in zip(range(numBoxes), ax1.get_xticklabels()):\n",
    "    k = tick % 2\n",
    "    ax1.text(pos[tick], top - (top*0.05), upperLabels[tick],\n",
    "             horizontalalignment='center', size='x-small', weight=weights[k],\n",
    "             color=boxColors[k])\n",
    "    ax1.text(pos[tick], top - (top*0.02), 'train',\n",
    "             horizontalalignment='center', size='x-small', weight=weights[k],\n",
    "             color=boxColors[k])\n",
    "    \n",
    "pos = np.arange(numBoxes) + 1\n",
    "upperLabels = [str(np.round(s, 2)) for s in medians_test]\n",
    "weights = ['bold', 'semibold']\n",
    "for tick, label in zip(range(numBoxes), ax1.get_xticklabels()):\n",
    "    k = tick % 2\n",
    "    ax1.text(pos[tick]+0.35, top - (top*0.05), upperLabels[tick],\n",
    "             horizontalalignment='center', size='x-small', weight=weights[k],\n",
    "             color=boxColors[k])\n",
    "    ax1.text(pos[tick]+0.35, top - (top*0.02), 'test',\n",
    "             horizontalalignment='center', size='x-small', weight=weights[k],\n",
    "             color=boxColors[k])\n",
    "\n",
    "\n",
    "import matplotlib.patches as mpatches\n",
    "patch1 = mpatches.Patch(color=boxColors[0], label='without unlabeled')\n",
    "patch2 = mpatches.Patch(color=boxColors[1], label='with unlabeled')\n",
    "plt.legend(handles=[patch1, patch2], loc=4, prop={'size':10})\n",
    "\n",
    "\n",
    "plt.show()"
   ]
  },
  {
   "cell_type": "code",
   "execution_count": 124,
   "metadata": {
    "collapsed": false
   },
   "outputs": [],
   "source": [
    "%matplotlib tk"
   ]
  },
  {
   "cell_type": "code",
   "execution_count": 91,
   "metadata": {
    "collapsed": false
   },
   "outputs": [
    {
     "data": {
      "text/plain": [
       "array(['train', 'train', 'train', 'train', 'train', 'train', 'train',\n",
       "       'train', 'train', 'train', 'test', 'test', 'test', 'test', 'test',\n",
       "       'test', 'test', 'test', 'test', 'test'], \n",
       "      dtype='|S5')"
      ]
     },
     "execution_count": 91,
     "metadata": {},
     "output_type": "execute_result"
    }
   ],
   "source": [
    "np.repeat(['train', 'test'], len(train_data))"
   ]
  },
  {
   "cell_type": "code",
   "execution_count": 94,
   "metadata": {
    "collapsed": false
   },
   "outputs": [
    {
     "data": {
      "text/plain": [
       "array(['train', 'test', 'train', 'test', 'train', 'test', 'train', 'test',\n",
       "       'train', 'test', 'train', 'test', 'train', 'test', 'train', 'test',\n",
       "       'train', 'test', 'train', 'test'], \n",
       "      dtype='|S5')"
      ]
     },
     "execution_count": 94,
     "metadata": {},
     "output_type": "execute_result"
    }
   ],
   "source": []
  },
  {
   "cell_type": "code",
   "execution_count": null,
   "metadata": {
    "collapsed": true
   },
   "outputs": [],
   "source": []
  }
 ],
 "metadata": {
  "kernelspec": {
   "display_name": "Python 2",
   "language": "python",
   "name": "python2"
  },
  "language_info": {
   "codemirror_mode": {
    "name": "ipython",
    "version": 2
   },
   "file_extension": ".py",
   "mimetype": "text/x-python",
   "name": "python",
   "nbconvert_exporter": "python",
   "pygments_lexer": "ipython2",
   "version": "2.7.11"
  }
 },
 "nbformat": 4,
 "nbformat_minor": 0
}
