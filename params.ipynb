{
 "cells": [
  {
   "cell_type": "code",
   "execution_count": 2,
   "metadata": {
    "collapsed": true
   },
   "outputs": [],
   "source": [
    "import numpy as np\n",
    "import pandas as pd\n",
    "import matplotlib.pyplot as plt\n",
    "\n",
    "import os\n",
    "import itertools\n",
    "from collections import OrderedDict\n",
    "from functools import partial\n",
    "\n",
    "from sklearn.datasets import load_svmlight_file, make_circles\n",
    "\n",
    "\n",
    "from links import LinksClassifier\n",
    "from logit import LogisticRegressionPairwise, LogisticRegression\n",
    "\n",
    "\n",
    "from sklearn.model_selection import ParameterGrid, StratifiedShuffleSplit, GridSearchCV\n",
    "from sklearn.preprocessing import StandardScaler\n",
    "from sklearn.model_selection import train_test_split\n",
    "\n",
    "from tqdm import tqdm_notebook as tqdm\n",
    "\n",
    "from new_experiment_runner.cacher import CSVCacher"
   ]
  },
  {
   "cell_type": "code",
   "execution_count": 3,
   "metadata": {
    "collapsed": true
   },
   "outputs": [],
   "source": [
    "%matplotlib inline\n",
    "%load_ext autoreload\n",
    "%autoreload 2"
   ]
  },
  {
   "cell_type": "code",
   "execution_count": 5,
   "metadata": {
    "collapsed": true
   },
   "outputs": [],
   "source": [
    "params = pd.read_csv('data/params.csv')"
   ]
  },
  {
   "cell_type": "code",
   "execution_count": 7,
   "metadata": {
    "collapsed": false
   },
   "outputs": [
    {
     "data": {
      "text/html": [
       "<div>\n",
       "<table border=\"1\" class=\"dataframe\">\n",
       "  <thead>\n",
       "    <tr style=\"text-align: right;\">\n",
       "      <th></th>\n",
       "      <th>cv_split</th>\n",
       "      <th>gs_test_size</th>\n",
       "      <th>cv_splits</th>\n",
       "      <th>cv_test_size</th>\n",
       "      <th>percent_unlabeled</th>\n",
       "      <th>percent_links</th>\n",
       "      <th>dataset</th>\n",
       "      <th>beta</th>\n",
       "      <th>delta</th>\n",
       "      <th>cv_random_state</th>\n",
       "      <th>gs_splits</th>\n",
       "      <th>percent_labels</th>\n",
       "      <th>alpha</th>\n",
       "      <th>cv_score</th>\n",
       "      <th>gamma</th>\n",
       "      <th>test_score</th>\n",
       "    </tr>\n",
       "  </thead>\n",
       "  <tbody>\n",
       "    <tr>\n",
       "      <th>0</th>\n",
       "      <td>0.0</td>\n",
       "      <td>0.2</td>\n",
       "      <td>3.0</td>\n",
       "      <td>0.2</td>\n",
       "      <td>0.3</td>\n",
       "      <td>0.3</td>\n",
       "      <td>diabetes_scale</td>\n",
       "      <td>0.2</td>\n",
       "      <td>0.01</td>\n",
       "      <td>42.0</td>\n",
       "      <td>3.0</td>\n",
       "      <td>0.3</td>\n",
       "      <td>10.0</td>\n",
       "      <td>0.738739</td>\n",
       "      <td>1.0</td>\n",
       "      <td>0.681818</td>\n",
       "    </tr>\n",
       "    <tr>\n",
       "      <th>1</th>\n",
       "      <td>0.0</td>\n",
       "      <td>0.2</td>\n",
       "      <td>3.0</td>\n",
       "      <td>0.2</td>\n",
       "      <td>0.3</td>\n",
       "      <td>0.3</td>\n",
       "      <td>diabetes_scale</td>\n",
       "      <td>0.1</td>\n",
       "      <td>0.40</td>\n",
       "      <td>42.0</td>\n",
       "      <td>3.0</td>\n",
       "      <td>0.3</td>\n",
       "      <td>10.0</td>\n",
       "      <td>0.738739</td>\n",
       "      <td>0.5</td>\n",
       "      <td>0.701299</td>\n",
       "    </tr>\n",
       "    <tr>\n",
       "      <th>2</th>\n",
       "      <td>2.0</td>\n",
       "      <td>0.2</td>\n",
       "      <td>3.0</td>\n",
       "      <td>0.2</td>\n",
       "      <td>0.3</td>\n",
       "      <td>0.3</td>\n",
       "      <td>diabetes_scale</td>\n",
       "      <td>0.1</td>\n",
       "      <td>0.50</td>\n",
       "      <td>42.0</td>\n",
       "      <td>3.0</td>\n",
       "      <td>0.3</td>\n",
       "      <td>10.0</td>\n",
       "      <td>0.765766</td>\n",
       "      <td>0.5</td>\n",
       "      <td>0.746753</td>\n",
       "    </tr>\n",
       "    <tr>\n",
       "      <th>3</th>\n",
       "      <td>0.0</td>\n",
       "      <td>0.2</td>\n",
       "      <td>3.0</td>\n",
       "      <td>0.2</td>\n",
       "      <td>0.3</td>\n",
       "      <td>0.3</td>\n",
       "      <td>diabetes_scale</td>\n",
       "      <td>0.1</td>\n",
       "      <td>0.30</td>\n",
       "      <td>42.0</td>\n",
       "      <td>3.0</td>\n",
       "      <td>0.3</td>\n",
       "      <td>10.0</td>\n",
       "      <td>0.738739</td>\n",
       "      <td>1.0</td>\n",
       "      <td>0.688312</td>\n",
       "    </tr>\n",
       "    <tr>\n",
       "      <th>4</th>\n",
       "      <td>0.0</td>\n",
       "      <td>0.2</td>\n",
       "      <td>3.0</td>\n",
       "      <td>0.2</td>\n",
       "      <td>0.3</td>\n",
       "      <td>0.3</td>\n",
       "      <td>diabetes_scale</td>\n",
       "      <td>0.1</td>\n",
       "      <td>0.01</td>\n",
       "      <td>42.0</td>\n",
       "      <td>3.0</td>\n",
       "      <td>0.3</td>\n",
       "      <td>10.0</td>\n",
       "      <td>0.738739</td>\n",
       "      <td>0.5</td>\n",
       "      <td>0.694805</td>\n",
       "    </tr>\n",
       "  </tbody>\n",
       "</table>\n",
       "</div>"
      ],
      "text/plain": [
       "   cv_split  gs_test_size  cv_splits  cv_test_size  percent_unlabeled  \\\n",
       "0       0.0           0.2        3.0           0.2                0.3   \n",
       "1       0.0           0.2        3.0           0.2                0.3   \n",
       "2       2.0           0.2        3.0           0.2                0.3   \n",
       "3       0.0           0.2        3.0           0.2                0.3   \n",
       "4       0.0           0.2        3.0           0.2                0.3   \n",
       "\n",
       "   percent_links         dataset  beta  delta  cv_random_state  gs_splits  \\\n",
       "0            0.3  diabetes_scale   0.2   0.01             42.0        3.0   \n",
       "1            0.3  diabetes_scale   0.1   0.40             42.0        3.0   \n",
       "2            0.3  diabetes_scale   0.1   0.50             42.0        3.0   \n",
       "3            0.3  diabetes_scale   0.1   0.30             42.0        3.0   \n",
       "4            0.3  diabetes_scale   0.1   0.01             42.0        3.0   \n",
       "\n",
       "   percent_labels  alpha  cv_score  gamma  test_score  \n",
       "0             0.3   10.0  0.738739    1.0    0.681818  \n",
       "1             0.3   10.0  0.738739    0.5    0.701299  \n",
       "2             0.3   10.0  0.765766    0.5    0.746753  \n",
       "3             0.3   10.0  0.738739    1.0    0.688312  \n",
       "4             0.3   10.0  0.738739    0.5    0.694805  "
      ]
     },
     "execution_count": 7,
     "metadata": {},
     "output_type": "execute_result"
    }
   ],
   "source": [
    "params.head()"
   ]
  },
  {
   "cell_type": "code",
   "execution_count": 16,
   "metadata": {
    "collapsed": false
   },
   "outputs": [],
   "source": [
    "def plot_scores(ax, scores, vmin, vmax, range_x, range_y):\n",
    "    r = ax.imshow(scores, \n",
    "        interpolation='nearest',\n",
    "                  cmap=plt.cm.hot,\n",
    "                  vmax=vmax,\n",
    "                  vmin=vmin,\n",
    "                origin='lower')\n",
    "    ax.set_xticks(np.arange(len(range_x)))\n",
    "    ax.set_xticklabels(range_x)\n",
    "    ax.set_yticks(np.arange(len(range_y)))\n",
    "    ax.set_yticklabels(range_y)\n",
    "    return r"
   ]
  },
  {
   "cell_type": "code",
   "execution_count": 34,
   "metadata": {
    "collapsed": true
   },
   "outputs": [],
   "source": [
    "%matplotlib tk"
   ]
  },
  {
   "cell_type": "code",
   "execution_count": 29,
   "metadata": {
    "collapsed": false
   },
   "outputs": [
    {
     "data": {
      "text/plain": [
       "array(['diabetes_scale', 'breast-cancer_scale', 'australian_scale',\n",
       "       'circles', 'moons'], dtype=object)"
      ]
     },
     "execution_count": 29,
     "metadata": {},
     "output_type": "execute_result"
    }
   ],
   "source": [
    "params.dataset.unique()"
   ]
  },
  {
   "cell_type": "code",
   "execution_count": 39,
   "metadata": {
    "collapsed": false
   },
   "outputs": [],
   "source": [
    "datasets =params.dataset.unique()[:3]\n",
    "fig, ax = plt.subplots(ncols=len(datasets))\n",
    "\n",
    "for i, ds in enumerate(datasets):\n",
    "    ds_params = params.ix[params['dataset'] == ds]\n",
    "    ds_score_grouped = pd.groupby(ds_params, by=['beta', 'delta']).agg({'test_score':np.mean})\n",
    "    ds_score_grouped = ds_score_grouped.unstack(level=-1)\n",
    "    \n",
    "    plot_scores(ax[i], ds_score_grouped, vmin=0.5, vmax=1, range_y=np.sort(ds_params.beta.unique()),\n",
    "                range_x=np.sort(ds_params.delta.unique()))\n",
    "    "
   ]
  },
  {
   "cell_type": "code",
   "execution_count": 25,
   "metadata": {
    "collapsed": false
   },
   "outputs": [
    {
     "data": {
      "text/plain": [
       "Float64Index([0.01, 0.05, 0.1, 0.15, 0.2, 0.3, 0.4, 0.5], dtype='float64', name=u'delta')"
      ]
     },
     "execution_count": 25,
     "metadata": {},
     "output_type": "execute_result"
    }
   ],
   "source": []
  },
  {
   "cell_type": "code",
   "execution_count": null,
   "metadata": {
    "collapsed": true
   },
   "outputs": [],
   "source": [
    "imsh"
   ]
  },
  {
   "cell_type": "code",
   "execution_count": null,
   "metadata": {
    "collapsed": true
   },
   "outputs": [],
   "source": []
  }
 ],
 "metadata": {
  "kernelspec": {
   "display_name": "Python 2",
   "language": "python",
   "name": "python2"
  },
  "language_info": {
   "codemirror_mode": {
    "name": "ipython",
    "version": 2
   },
   "file_extension": ".py",
   "mimetype": "text/x-python",
   "name": "python",
   "nbconvert_exporter": "python",
   "pygments_lexer": "ipython2",
   "version": "2.7.11"
  }
 },
 "nbformat": 4,
 "nbformat_minor": 0
}
