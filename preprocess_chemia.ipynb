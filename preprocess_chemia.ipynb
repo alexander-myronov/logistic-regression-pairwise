{
 "cells": [
  {
   "cell_type": "code",
   "execution_count": 121,
   "metadata": {
    "collapsed": true
   },
   "outputs": [],
   "source": [
    "import pandas as pd\n",
    "from sklearn.datasets import dump_svmlight_file, load_svmlight_file\n",
    "from sklearn.preprocessing import LabelEncoder\n",
    "import operator\n",
    "import os\n",
    "from collections import Counter\n",
    "import re\n",
    "import numpy as np"
   ]
  },
  {
   "cell_type": "code",
   "execution_count": 18,
   "metadata": {
    "collapsed": true
   },
   "outputs": [],
   "source": [
    "from matplotlib import pyplot as plt"
   ]
  },
  {
   "cell_type": "code",
   "execution_count": 48,
   "metadata": {
    "collapsed": true
   },
   "outputs": [],
   "source": [
    "chemia_files = [\n",
    "    'data/estate_with_class.csv',\n",
    "    'data/extended_with_class.csv',\n",
    "    'data/fingerprinter_with_class.csv',\n",
    "    'data/maccs_with_class.csv',\n",
    "    'data/graphonly_with_class.csv',\n",
    "    'data/KRFP_with_class.csv',\n",
    "    'data/pubchem_with_class.csv',\n",
    "    'data/substructure_with_class.csv'\n",
    "]"
   ]
  },
  {
   "cell_type": "code",
   "execution_count": 142,
   "metadata": {
    "collapsed": false
   },
   "outputs": [],
   "source": [
    "chemia_file = chemia_files[0]"
   ]
  },
  {
   "cell_type": "code",
   "execution_count": 155,
   "metadata": {
    "collapsed": false
   },
   "outputs": [],
   "source": [
    "def csv_to_svmlight(chemia_file):\n",
    "    chemia_df = pd.read_csv(chemia_file, header=None)\n",
    "    chemia_df.set_index(chemia_df.columns[0], drop=True, inplace=True)\n",
    "\n",
    "    X = chemia_df.values[:,:-1]\n",
    "    X = X.astype(float)\n",
    "    y = chemia_df.values[:,-1]\n",
    "\n",
    "    print(chemia_file)\n",
    "\n",
    "\n",
    "    not_nan_index = np.isfinite(X).any(axis=1)\n",
    "    print(not_nan_index.sum())\n",
    "\n",
    "    y_letters = np.array(map(lambda (k): re.match('\\(([A-Z]{1,2})\\)', k).groups()[0], y))\n",
    "    top_10_classes = sorted(map(operator.itemgetter(0), \n",
    "                                sorted(Counter(y_letters).iteritems(), key=lambda (k,v): v, reverse=True)[:10]))\n",
    "    top_10_index = pd.Series(y_letters).isin(top_10_classes).values\n",
    "\n",
    "    index = top_10_index & not_nan_index\n",
    "    print('taking %d out of %d examples' % (index.sum(), len(index)))\n",
    "\n",
    "    X_top_10 = X[index]\n",
    "    y_top_10 = LabelEncoder().fit(top_10_classes).transform(y_letters[index])\n",
    "\n",
    "    filename = re.sub('_.*\\.csv', '_top_10.libsvm', chemia_file)\n",
    "    dump_svmlight_file(X_top_10, y_top_10, f=filename, comment='%d' % X.shape[1])\n",
    "\n",
    "    # now testing\n",
    "    n_features = None\n",
    "    with open(filename, 'r') as svmlight_file:\n",
    "        next(svmlight_file)\n",
    "        next(svmlight_file)\n",
    "        next(svmlight_file)\n",
    "        n_features_line = next(svmlight_file)\n",
    "\n",
    "        match = re.match('#\\s([0-9]+)', n_features_line)\n",
    "        if match:\n",
    "            n_features = int(match.groups()[0])\n",
    "    X_saved, y_saved = load_svmlight_file(filename, n_features=n_features)\n",
    "    assert X_saved.shape == X_top_10.shape\n"
   ]
  },
  {
   "cell_type": "code",
   "execution_count": 147,
   "metadata": {
    "collapsed": false
   },
   "outputs": [
    {
     "data": {
      "text/plain": [
       "array([[ 0.,  0.,  0., ...,  0.,  0.,  0.],\n",
       "       [ 0.,  0.,  0., ...,  0.,  0.,  0.],\n",
       "       [ 0.,  0.,  0., ...,  0.,  0.,  0.],\n",
       "       ..., \n",
       "       [ 0.,  0.,  0., ...,  0.,  0.,  0.],\n",
       "       [ 0.,  0.,  0., ...,  0.,  0.,  0.],\n",
       "       [ 0.,  0.,  0., ...,  0.,  0.,  0.]])"
      ]
     },
     "execution_count": 147,
     "metadata": {},
     "output_type": "execute_result"
    }
   ],
   "source": [
    "X.astype(float)"
   ]
  },
  {
   "cell_type": "code",
   "execution_count": 156,
   "metadata": {
    "collapsed": false
   },
   "outputs": [
    {
     "name": "stdout",
     "output_type": "stream",
     "text": [
      "data/estate_with_class.csv\n",
      "3695\n",
      "taking 2720 out of 3696 examples\n",
      "data/estate_with_class.csv\n",
      "data/extended_with_class.csv\n",
      "3696\n",
      "taking 2721 out of 3696 examples\n",
      "data/extended_with_class.csv\n",
      "data/fingerprinter_with_class.csv\n",
      "3696\n",
      "taking 2721 out of 3696 examples\n",
      "data/fingerprinter_with_class.csv\n",
      "data/maccs_with_class.csv\n",
      "3696\n",
      "taking 2721 out of 3696 examples\n",
      "data/maccs_with_class.csv\n",
      "data/graphonly_with_class.csv\n",
      "3696\n",
      "taking 2721 out of 3696 examples\n",
      "data/graphonly_with_class.csv\n",
      "data/KRFP_with_class.csv\n",
      "3696\n",
      "taking 2721 out of 3696 examples\n",
      "data/KRFP_with_class.csv\n",
      "data/pubchem_with_class.csv\n",
      "3696\n",
      "taking 2721 out of 3696 examples\n",
      "data/pubchem_with_class.csv\n",
      "data/substructure_with_class.csv\n",
      "3696\n",
      "taking 2721 out of 3696 examples\n",
      "data/substructure_with_class.csv\n"
     ]
    }
   ],
   "source": [
    "for chemia_file in chemia_files:\n",
    "    csv_to_svmlight(chemia_file)\n",
    "    print(chemia_file)"
   ]
  },
  {
   "cell_type": "code",
   "execution_count": 158,
   "metadata": {
    "collapsed": true
   },
   "outputs": [],
   "source": [
    "with open('data/datasets_chemia.txt', 'w') as f:\n",
    "    f.write('\\n'.join([re.sub('_.*\\.csv', '_top_10.libsvm', chemia_file) for chemia_file in chemia_files]))"
   ]
  },
  {
   "cell_type": "code",
   "execution_count": null,
   "metadata": {
    "collapsed": true
   },
   "outputs": [],
   "source": []
  }
 ],
 "metadata": {
  "kernelspec": {
   "display_name": "Python 2",
   "language": "python",
   "name": "python2"
  },
  "language_info": {
   "codemirror_mode": {
    "name": "ipython",
    "version": 2
   },
   "file_extension": ".py",
   "mimetype": "text/x-python",
   "name": "python",
   "nbconvert_exporter": "python",
   "pygments_lexer": "ipython2",
   "version": "2.7.11"
  }
 },
 "nbformat": 4,
 "nbformat_minor": 0
}
