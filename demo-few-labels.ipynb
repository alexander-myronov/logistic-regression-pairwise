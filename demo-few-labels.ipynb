{
 "cells": [
  {
   "cell_type": "code",
   "execution_count": 1,
   "metadata": {
    "collapsed": true
   },
   "outputs": [],
   "source": [
    "from __future__ import division, print_function"
   ]
  },
  {
   "cell_type": "code",
   "execution_count": 2,
   "metadata": {
    "collapsed": true
   },
   "outputs": [],
   "source": [
    "import numpy as np\n",
    "import pandas as pd\n",
    "import matplotlib.pyplot as plt\n",
    "import itertools\n",
    "import matplotlib.cm"
   ]
  },
  {
   "cell_type": "code",
   "execution_count": 3,
   "metadata": {
    "collapsed": true
   },
   "outputs": [],
   "source": [
    "%matplotlib inline\n",
    "%load_ext autoreload\n",
    "%autoreload 2"
   ]
  },
  {
   "cell_type": "code",
   "execution_count": 4,
   "metadata": {
    "collapsed": true
   },
   "outputs": [],
   "source": [
    "%matplotlib tk"
   ]
  },
  {
   "cell_type": "code",
   "execution_count": 5,
   "metadata": {},
   "outputs": [],
   "source": [
    "#sorted(benchmarks.groupby(['percent_labels', 'percent_links', 'percent_unlabeled']).groups.keys())"
   ]
  },
  {
   "cell_type": "code",
   "execution_count": 6,
   "metadata": {},
   "outputs": [],
   "source": [
    "def plot_benchmarks_subset(benchmarks_subset):\n",
    "    fig, axs= plt.subplots(ncols=len(benchmarks_subset.percent_links.unique()), nrows=len(benchmarks_subset.dataset.unique()))\n",
    "\n",
    "    for i_ds, (ds_name, ds_df) in enumerate(benchmarks_subset.groupby('dataset')):\n",
    "        svm_index = ds_df.estimator.str.startswith('SVM')\n",
    "            #print(percent_subset.ix[svm_index, 'estimator'].unique())\n",
    "        svm_scores = ds_df.ix[ds_df.estimator.str.startswith('SVM')]\n",
    "        \n",
    "        for i_percent, (p_links, percent_subset) in enumerate(ds_df.groupby('percent_links')):\n",
    "            #print(p_links, percent_subset.estimator.unique())\n",
    "            #print(p_labels, p_links)\n",
    "            #print(percent_subset.estimator.unique())\n",
    "            ax = axs[i_ds, i_percent]\n",
    "            \n",
    "            ax.set_xlim(ds_df.percent_unlabeled.min(), ds_df.percent_unlabeled.max())\n",
    "            if i_percent == 0:\n",
    "                ax.set_title(ds_name)\n",
    "            else:\n",
    "                ax.set_title('+%d%% links' % int(p_links*100))\n",
    "                #ax.text(1.5, 1 ,ds_name)\n",
    "            \n",
    "            #ax.set_xlabel('% unlabeled')\n",
    "            #ax.set_ylim(0.5, 1)\n",
    "            mean_test_score = ds_df.groupby(['estimator', 'percent_links', 'percent_unlabeled']).agg({'test_score':'mean'})\n",
    "            ax.set_ylim(mean_test_score.values.min()-0.02, mean_test_score.values.max()+0.03)\n",
    "            #ax.set_ylim(np.percentile(mean_test_score.values, 0.1), np.percentile(mean_test_score.values, 99.1))\n",
    "\n",
    "        \n",
    "            #ax.set_ylabel('accuracy')\n",
    "            if i_ds != len(benchmarks_subset.dataset.unique()) - 1:\n",
    "                ax.set_xticklabels([])\n",
    "            \n",
    "            if i_percent != 0:\n",
    "                ax.set_yticklabels([])\n",
    "            \n",
    "            #print(i_ds, i_percent, axs.shape)\n",
    "            \n",
    "            \n",
    "            npklr_scores = percent_subset.ix[percent_subset.estimator.str.startswith('NPKLR')]\n",
    "            links_scores = percent_subset.ix[percent_subset.estimator.str.startswith('Links')]\n",
    "            \n",
    "            links_variants = links_scores.estimator.unique()\n",
    "            styles = ['co-', 'ro-'][::-1]\n",
    "            y_min = 1\n",
    "            y_max = 0\n",
    "            for i_est, estimator in enumerate(links_variants):\n",
    "                links_score_estimator = links_scores.ix[links_scores.estimator == estimator]\n",
    "                links_score_by_pun = links_score_estimator['test_score'].\\\n",
    "                    groupby(links_score_estimator['percent_unlabeled']).agg('mean')\n",
    "                ax.plot(links_score_by_pun.index.values, links_score_by_pun.values,\n",
    "                        styles[i_est], label=estimator)\n",
    "                y_min = min(y_min, links_score_by_pun.min())\n",
    "                y_max = max(y_max, links_score_by_pun.max())\n",
    "            \n",
    "            #\n",
    "            ax.grid()\n",
    "            #assert svm_scores.\n",
    "            svm_styles = ['go-', 'go--']\n",
    "            for (percent_labels, svm_score_p_labels), style in itertools.izip(\n",
    "                svm_scores.groupby('percent_labels'),\n",
    "                itertools.cycle(svm_styles)):\n",
    "                if percent_labels == -1:\n",
    "                    label = 'SVM'\n",
    "                else:\n",
    "                    label = 'SVM%d%%' % int(percent_labels*100)\n",
    "                ax.plot([0, 0.5], [svm_score_p_labels.test_score.mean()]*2, style, label=label)\n",
    "            ax.plot([0, 0.5], [npklr_scores.test_score.mean()]*2, 'yo-', label='NPKLR')\n",
    "            y_min = min(y_min, svm_scores.test_score.min())\n",
    "            y_max = max(y_max, svm_scores.test_score.max())\n",
    "            y_min = min(y_min, npklr_scores.test_score.min())\n",
    "            y_max = max(y_max, npklr_scores.test_score.max())\n",
    "            \n",
    "            #ax.set_ylim(y_min, y_max)\n",
    "            \n",
    "            if i_ds == axs.shape[0] - 1 and i_percent == axs.shape[1] - 1:\n",
    "                ax.legend(loc=(0.75, -0.75))\n",
    "        #break\n",
    "    fig.subplots_adjust(left=0.05, bottom=0.08, right=0.90, top=0.90,\n",
    "                    wspace=0.07, hspace=0.15)\n",
    "    return fig"
   ]
  },
  {
   "cell_type": "code",
   "execution_count": 50,
   "metadata": {},
   "outputs": [],
   "source": [
    "benchmarks_2_labels = pd.read_csv('data/benchmarks_linear_2_labels_2.csv')\n",
    "fig = plot_benchmarks_subset(benchmarks_2_labels)\n",
    "fig.suptitle('training with 2 labeled examples, score - accuracy')\n",
    "fig.set_size_inches(16, 9)\n",
    "fig.savefig('data/plots/2_labels.png', dpi=125)"
   ]
  },
  {
   "cell_type": "code",
   "execution_count": 37,
   "metadata": {
    "collapsed": true
   },
   "outputs": [],
   "source": [
    "benchmarks_no_labels = pd.read_csv('data/benchmarks_linear_no_labels_2.csv')\n",
    "benchmarks_svm = pd.read_csv('data/benchmarks_svm_linear_adj_rand.csv')\n",
    "benchmarks_svm.percent_links = 0.1\n",
    "benchmarks = pd.concat([benchmarks_no_labels, benchmarks_svm])\n",
    "fig = plot_benchmarks_subset(benchmarks)\n",
    "fig.suptitle('training with no labeled examples, score - adj. rand index')\n",
    "fig.set_size_inches(16, 9)\n",
    "fig.savefig('data/plots/no_labels_with_svm.png', dpi=200)"
   ]
  },
  {
   "cell_type": "code",
   "execution_count": 39,
   "metadata": {
    "collapsed": true
   },
   "outputs": [],
   "source": [
    "def plot_benchmarks_subset_2(benchmarks_subset): # version for no labels and same unlabeled subset\n",
    "    fig, axs= plt.subplots(ncols=int(len(benchmarks_subset.dataset.unique())/2+1), nrows=2)\n",
    "    axs = axs.flatten()\n",
    "    grouper_by_dataset = benchmarks_subset.groupby('dataset')\n",
    "    for i_ds, (ds_name, ds_df) in enumerate(grouper_by_dataset):\n",
    "        svm_index = ds_df.estimator.str.startswith('SVM')\n",
    "            #print(percent_subset.ix[svm_index, 'estimator'].unique())\n",
    "        \n",
    "        \n",
    "        ax = axs[i_ds]\n",
    "            \n",
    "        ax.set_xlim(ds_df.percent_links.min(), ds_df.percent_links.max())\n",
    "            \n",
    "        ax.set_title(ds_name)\n",
    "            \n",
    "            \n",
    "        mean_test_score = ds_df.groupby(['estimator', 'percent_links', 'percent_unlabeled']).agg({'test_score':'mean'})\n",
    "        ax.set_ylim(mean_test_score.values.min()-0.02, mean_test_score.values.max()+0.03)\n",
    "            \n",
    "        \n",
    "            \n",
    "            #print(i_ds, i_percent, axs.shape)\n",
    "            \n",
    "        svm_scores = ds_df.ix[ds_df.estimator.str.startswith('SVM')]\n",
    "\n",
    "        npklr_scores = ds_df.ix[ds_df.estimator.str.startswith('NPKLR')]\n",
    "        links_scores = ds_df.ix[ds_df.estimator.str.startswith('Links')]\n",
    "        gmm_scores = ds_df.ix[ds_df.estimator.str.startswith('GMM')]\n",
    "        \n",
    "        #print(ds_df.groupby(['estimator', 'percent_unlabeled']).agg('count').unstack(-1))\n",
    "            \n",
    "        links_variants = links_scores.estimator.unique()\n",
    "        styles = ['co-', 'ro-'][::-1]\n",
    "        y_min = 1\n",
    "        y_max = 0\n",
    "        for i_est, estimator in enumerate(links_variants):\n",
    "            links_score_estimator = links_scores.ix[links_scores.estimator == estimator]\n",
    "            links_score_by_plinks = links_score_estimator['test_score'].\\\n",
    "                groupby(links_score_estimator['percent_links']).agg('mean')\n",
    "            ax.plot(links_score_by_plinks.index.values, links_score_by_plinks.values,\n",
    "                    styles[i_est], label=estimator)\n",
    "            \n",
    "            #\n",
    "            ax.grid()\n",
    "        #assert svm_scores.\n",
    "        svm_styles = ['go-', 'go--']\n",
    "        for (percent_labels, svm_score_p_labels), style in itertools.izip(\n",
    "            svm_scores.groupby('percent_labels'),\n",
    "            itertools.cycle(svm_styles)):\n",
    "            if percent_labels == -1:\n",
    "                label = 'SVM'\n",
    "            else:\n",
    "                label = 'SVM%d%%' % int(percent_labels*100)\n",
    "            ax.plot([0, 0.5], [svm_score_p_labels.test_score.mean()]*2, style, label=label)\n",
    "            \n",
    "        npklr_score_by_plinks = npklr_scores['test_score'].\\\n",
    "                groupby(npklr_scores['percent_links']).agg('mean')\n",
    "        ax.plot(npklr_score_by_plinks.index.values, npklr_score_by_plinks.values,\n",
    "                'yo-', label='NPKLR')\n",
    "        \n",
    "        gmm_score_by_plinks = gmm_scores['test_score'].\\\n",
    "                groupby(gmm_scores['percent_links']).agg('mean')\n",
    "        ax.plot(gmm_score_by_plinks.index.values, gmm_score_by_plinks.values,\n",
    "                'bo-', label='GMM')\n",
    "#         ax.plot([0, 0.5], [npklr_scores.test_score.mean()]*2, 'yo-', label='NPKLR')\n",
    "\n",
    "            \n",
    "            #ax.set_ylim(y_min, y_max)\n",
    "        if i_ds == len(grouper_by_dataset) - 1:\n",
    "            #print('legend')\n",
    "            ax.legend(loc=(2.1, -0.15))\n",
    "        #break\n",
    "    fig.subplots_adjust(left=0.05, bottom=0.08, right=0.90, top=0.90,\n",
    "                    wspace=0.07, hspace=0.15)\n",
    "    return fig"
   ]
  },
  {
   "cell_type": "code",
   "execution_count": 34,
   "metadata": {},
   "outputs": [
    {
     "name": "stdout",
     "output_type": "stream",
     "text": [
      "legend\n"
     ]
    }
   ],
   "source": [
    "benchmarks_no_labels = pd.read_csv('data/benchmarks_linear_no_labels_3.csv')\n",
    "benchmarks_svm = pd.read_csv('data/benchmarks_svm_linear_adj_rand_2.csv')\n",
    "#benchmarks_svm.percent_links = 0.1\n",
    "benchmarks_no_labels = pd.concat([benchmarks_no_labels, benchmarks_svm])\n",
    "fig = plot_benchmarks_subset_2(benchmarks_no_labels)\n",
    "fig.suptitle('training with no labeled examples, score - adj. rand index')\n",
    "fig.set_size_inches(16, 9)\n",
    "fig.savefig('data/plots/no_labels_linear_svm.png', dpi=200)"
   ]
  },
  {
   "cell_type": "code",
   "execution_count": 35,
   "metadata": {},
   "outputs": [
    {
     "name": "stdout",
     "output_type": "stream",
     "text": [
      "legend\n"
     ]
    }
   ],
   "source": [
    "benchmarks_no_labels = pd.read_csv('data/benchmarks_rbf_no_labels_3.csv')\n",
    "benchmarks_svm = pd.read_csv('data/benchmarks_svm_rbf_adj_rand_2.csv')\n",
    "# benchmarks_svm.percent_links = 0.1\n",
    "benchmarks_no_labels = pd.concat([benchmarks_no_labels, benchmarks_svm])\n",
    "fig = plot_benchmarks_subset_2(benchmarks_no_labels)\n",
    "fig.suptitle('training with no labeled examples, score - adj. rand index')\n",
    "fig.set_size_inches(16, 9)\n",
    "fig.savefig('data/plots/no_labels_rbf_svm.png', dpi=200)"
   ]
  },
  {
   "cell_type": "code",
   "execution_count": 42,
   "metadata": {},
   "outputs": [],
   "source": [
    "benchmarks_no_labels = pd.read_csv('data/benchmarks_linear_no_labels_3.csv')\n",
    "benchmarks_svm = pd.read_csv('data/benchmarks_svm_linear_adj_rand_2.csv')\n",
    "benchmarks_gmm = pd.read_csv('data/benchmarks_gmm_linear_adj_rand.csv')\n",
    "benchmarks_no_labels = pd.concat([benchmarks_no_labels, benchmarks_svm, benchmarks_gmm])\n",
    "fig = plot_benchmarks_subset_2(benchmarks_no_labels)\n",
    "fig.suptitle('training with no labeled examples, score - adj. rand index')\n",
    "fig.set_size_inches(16, 9)\n",
    "fig.savefig('data/plots/no_labels_linear_svm_gmm.png', dpi=200)"
   ]
  },
  {
   "cell_type": "code",
   "execution_count": 38,
   "metadata": {},
   "outputs": [
    {
     "data": {
      "text/plain": [
       "[(0.2, 0.0, 0.4),\n",
       " (0.2, 0.1, 0.4),\n",
       " (0.2, 0.2, 0.4),\n",
       " (0.2, 0.3, 0.4),\n",
       " (0.2, 0.4, 0.4),\n",
       " (0.2, 0.5, 0.4)]"
      ]
     },
     "execution_count": 38,
     "metadata": {},
     "output_type": "execute_result"
    }
   ],
   "source": [
    "#sorted(benchmarks_gmm.groupby(['percent_labels', 'percent_links', 'percent_unlabeled']).groups.keys())"
   ]
  },
  {
   "cell_type": "code",
   "execution_count": null,
   "metadata": {
    "collapsed": true
   },
   "outputs": [],
   "source": []
  },
  {
   "cell_type": "code",
   "execution_count": null,
   "metadata": {
    "collapsed": true
   },
   "outputs": [],
   "source": []
  },
  {
   "cell_type": "code",
   "execution_count": null,
   "metadata": {
    "collapsed": true
   },
   "outputs": [],
   "source": []
  },
  {
   "cell_type": "code",
   "execution_count": null,
   "metadata": {
    "collapsed": true
   },
   "outputs": [],
   "source": []
  },
  {
   "cell_type": "code",
   "execution_count": 49,
   "metadata": {
    "collapsed": true
   },
   "outputs": [],
   "source": [
    "benchmarks_no_labels = pd.read_csv('data/benchmarks_linear_no_labels.csv')\n",
    "\n",
    "#benchmarks_subindex = benchmarks_linear.dataset.isin(benchmarks_linear.dataset.unique())\n",
    "plot_benchmarks_subset(benchmarks_no_labels)"
   ]
  },
  {
   "cell_type": "code",
   "execution_count": 55,
   "metadata": {
    "collapsed": true
   },
   "outputs": [],
   "source": [
    "benchmarks_no_labels.to_csv('data/benchmarks_linear_no_labels.csv', index=False)"
   ]
  },
  {
   "cell_type": "code",
   "execution_count": 30,
   "metadata": {
    "collapsed": true
   },
   "outputs": [],
   "source": [
    "benchmarks_linear = pd.read_csv('data/benchmarks_uci_linear_few_labels.csv')\n"
   ]
  },
  {
   "cell_type": "code",
   "execution_count": 15,
   "metadata": {},
   "outputs": [],
   "source": [
    "\n",
    "benchmarks_subindex = benchmarks_linear.dataset.isin(benchmarks_linear.dataset.unique())\n",
    "plot_benchmarks_subset(benchmarks_linear.ix[benchmarks_subindex])"
   ]
  },
  {
   "cell_type": "code",
   "execution_count": 56,
   "metadata": {},
   "outputs": [],
   "source": [
    "benchmarks_linear = pd.read_csv('data/benchmarks_linear_trzmiel_2.csv')\n"
   ]
  },
  {
   "cell_type": "code",
   "execution_count": 57,
   "metadata": {
    "collapsed": true
   },
   "outputs": [],
   "source": [
    "benchmarks_subindex = benchmarks_linear.dataset.isin(benchmarks_linear.dataset.unique()) & benchmarks_linear.estimator.str.contains('linear')\n",
    "plot_benchmarks_subset(benchmarks_linear.ix[benchmarks_subindex])"
   ]
  },
  {
   "cell_type": "code",
   "execution_count": 58,
   "metadata": {
    "collapsed": true
   },
   "outputs": [],
   "source": [
    "benchmarks_rbf = pd.read_csv('data/benchmarks_uci_rbf_few_labels.csv')"
   ]
  },
  {
   "cell_type": "code",
   "execution_count": 60,
   "metadata": {
    "collapsed": true
   },
   "outputs": [],
   "source": [
    "\n",
    "benchmarks_subindex = benchmarks_rbf.dataset.isin(benchmarks_rbf.dataset.unique()) & benchmarks_rbf.estimator.str.contains('rbf')\n",
    "plot_benchmarks_subset(benchmarks_rbf.ix[benchmarks_subindex])"
   ]
  },
  {
   "cell_type": "code",
   "execution_count": 61,
   "metadata": {
    "collapsed": true
   },
   "outputs": [],
   "source": [
    "\n",
    "benchmarks_subindex = benchmarks_linear.dataset.isin(benchmarks_linear.dataset.unique()) & benchmarks_linear.estimator.str.contains('rbf')\n",
    "plot_benchmarks_subset(benchmarks_linear.ix[benchmarks_subindex])"
   ]
  },
  {
   "cell_type": "code",
   "execution_count": 54,
   "metadata": {},
   "outputs": [
    {
     "data": {
      "text/plain": [
       "array(['diabetes_scale', 'breast-cancer_scale', 'australian_scale',\n",
       "       'ionosphere_scale', 'german.numer_scale', 'heart_scale',\n",
       "       'liver-disorders_scale'], dtype=object)"
      ]
     },
     "execution_count": 54,
     "metadata": {},
     "output_type": "execute_result"
    }
   ],
   "source": [
    "benchmarks.dataset.unique()"
   ]
  },
  {
   "cell_type": "code",
   "execution_count": 32,
   "metadata": {},
   "outputs": [],
   "source": [
    "lapsvm = pd.read_csv('data/remote/lapsvm_trzmiel.csv')\n",
    "lapsvm.ix[pd.isnull(lapsvm.estimator), 'estimator'] = 'Links'"
   ]
  },
  {
   "cell_type": "code",
   "execution_count": 33,
   "metadata": {},
   "outputs": [
    {
     "data": {
      "text/html": [
       "<div>\n",
       "<table border=\"1\" class=\"dataframe\">\n",
       "  <thead>\n",
       "    <tr style=\"text-align: right;\">\n",
       "      <th></th>\n",
       "      <th>dataset</th>\n",
       "      <th>percent_labels</th>\n",
       "      <th>percent_links</th>\n",
       "      <th>percent_unlabeled</th>\n",
       "      <th>cv_split</th>\n",
       "      <th>rs_iters</th>\n",
       "      <th>rs_splits</th>\n",
       "      <th>rs_test_size</th>\n",
       "      <th>cv_score</th>\n",
       "      <th>test_score</th>\n",
       "      <th>beta</th>\n",
       "      <th>delta</th>\n",
       "      <th>alpha</th>\n",
       "      <th>gamma</th>\n",
       "      <th>estimator</th>\n",
       "      <th>gamma_I</th>\n",
       "      <th>gamma_A</th>\n",
       "    </tr>\n",
       "  </thead>\n",
       "  <tbody>\n",
       "    <tr>\n",
       "      <th>0</th>\n",
       "      <td>diabetes_scale</td>\n",
       "      <td>0.1</td>\n",
       "      <td>0.1</td>\n",
       "      <td>0.1</td>\n",
       "      <td>4.0</td>\n",
       "      <td>100.0</td>\n",
       "      <td>5.0</td>\n",
       "      <td>0.2</td>\n",
       "      <td>0.876923</td>\n",
       "      <td>0.694805</td>\n",
       "      <td>627.036243</td>\n",
       "      <td>62.386288</td>\n",
       "      <td>241.334168</td>\n",
       "      <td>10.0</td>\n",
       "      <td>Links</td>\n",
       "      <td>NaN</td>\n",
       "      <td>NaN</td>\n",
       "    </tr>\n",
       "    <tr>\n",
       "      <th>1</th>\n",
       "      <td>diabetes_scale</td>\n",
       "      <td>0.1</td>\n",
       "      <td>0.1</td>\n",
       "      <td>0.1</td>\n",
       "      <td>6.0</td>\n",
       "      <td>100.0</td>\n",
       "      <td>5.0</td>\n",
       "      <td>0.2</td>\n",
       "      <td>0.876923</td>\n",
       "      <td>0.616883</td>\n",
       "      <td>576.105660</td>\n",
       "      <td>14.394807</td>\n",
       "      <td>16.799070</td>\n",
       "      <td>10.0</td>\n",
       "      <td>Links</td>\n",
       "      <td>NaN</td>\n",
       "      <td>NaN</td>\n",
       "    </tr>\n",
       "    <tr>\n",
       "      <th>2</th>\n",
       "      <td>diabetes_scale</td>\n",
       "      <td>0.1</td>\n",
       "      <td>0.1</td>\n",
       "      <td>0.1</td>\n",
       "      <td>3.0</td>\n",
       "      <td>100.0</td>\n",
       "      <td>5.0</td>\n",
       "      <td>0.2</td>\n",
       "      <td>0.876923</td>\n",
       "      <td>0.740260</td>\n",
       "      <td>627.036243</td>\n",
       "      <td>62.386288</td>\n",
       "      <td>241.334168</td>\n",
       "      <td>10.0</td>\n",
       "      <td>Links</td>\n",
       "      <td>NaN</td>\n",
       "      <td>NaN</td>\n",
       "    </tr>\n",
       "    <tr>\n",
       "      <th>3</th>\n",
       "      <td>diabetes_scale</td>\n",
       "      <td>0.1</td>\n",
       "      <td>0.1</td>\n",
       "      <td>0.1</td>\n",
       "      <td>5.0</td>\n",
       "      <td>100.0</td>\n",
       "      <td>5.0</td>\n",
       "      <td>0.2</td>\n",
       "      <td>0.830769</td>\n",
       "      <td>0.636364</td>\n",
       "      <td>48.904148</td>\n",
       "      <td>4.068718</td>\n",
       "      <td>138.640532</td>\n",
       "      <td>100.0</td>\n",
       "      <td>Links</td>\n",
       "      <td>NaN</td>\n",
       "      <td>NaN</td>\n",
       "    </tr>\n",
       "    <tr>\n",
       "      <th>4</th>\n",
       "      <td>diabetes_scale</td>\n",
       "      <td>0.1</td>\n",
       "      <td>0.1</td>\n",
       "      <td>0.1</td>\n",
       "      <td>0.0</td>\n",
       "      <td>100.0</td>\n",
       "      <td>5.0</td>\n",
       "      <td>0.2</td>\n",
       "      <td>0.830769</td>\n",
       "      <td>0.766234</td>\n",
       "      <td>473.126960</td>\n",
       "      <td>0.355701</td>\n",
       "      <td>817.840352</td>\n",
       "      <td>10.0</td>\n",
       "      <td>Links</td>\n",
       "      <td>NaN</td>\n",
       "      <td>NaN</td>\n",
       "    </tr>\n",
       "  </tbody>\n",
       "</table>\n",
       "</div>"
      ],
      "text/plain": [
       "          dataset  percent_labels  percent_links  percent_unlabeled  cv_split  \\\n",
       "0  diabetes_scale             0.1            0.1                0.1       4.0   \n",
       "1  diabetes_scale             0.1            0.1                0.1       6.0   \n",
       "2  diabetes_scale             0.1            0.1                0.1       3.0   \n",
       "3  diabetes_scale             0.1            0.1                0.1       5.0   \n",
       "4  diabetes_scale             0.1            0.1                0.1       0.0   \n",
       "\n",
       "   rs_iters  rs_splits  rs_test_size  cv_score  test_score        beta  \\\n",
       "0     100.0        5.0           0.2  0.876923    0.694805  627.036243   \n",
       "1     100.0        5.0           0.2  0.876923    0.616883  576.105660   \n",
       "2     100.0        5.0           0.2  0.876923    0.740260  627.036243   \n",
       "3     100.0        5.0           0.2  0.830769    0.636364   48.904148   \n",
       "4     100.0        5.0           0.2  0.830769    0.766234  473.126960   \n",
       "\n",
       "       delta       alpha  gamma estimator  gamma_I  gamma_A  \n",
       "0  62.386288  241.334168   10.0     Links      NaN      NaN  \n",
       "1  14.394807   16.799070   10.0     Links      NaN      NaN  \n",
       "2  62.386288  241.334168   10.0     Links      NaN      NaN  \n",
       "3   4.068718  138.640532  100.0     Links      NaN      NaN  \n",
       "4   0.355701  817.840352   10.0     Links      NaN      NaN  "
      ]
     },
     "execution_count": 33,
     "metadata": {},
     "output_type": "execute_result"
    }
   ],
   "source": [
    "lapsvm.head()"
   ]
  },
  {
   "cell_type": "code",
   "execution_count": 36,
   "metadata": {
    "collapsed": true
   },
   "outputs": [],
   "source": [
    "def plot_lapsvm_subset(lapsvm_subset):\n",
    "    fig, axs= plt.subplots(ncols=len(lapsvm_subset.percent_labels.unique()), nrows=len(lapsvm_subset.dataset.unique()))\n",
    "\n",
    "    for i_ds, (ds_name, ds_df) in enumerate(lapsvm_subset.groupby('dataset')):\n",
    "        for i_percent, (p_labels, percent_subset) in enumerate(ds_df.groupby('percent_labels')):\n",
    "            \n",
    "            #print(percent_subset.estimator.unique())\n",
    "            ax = axs[i_ds, i_percent]\n",
    "            if i_percent == 0:\n",
    "                ax.set_title(ds_name)\n",
    "            ax.set_xlim(0, 0.5)\n",
    "            #ax.set_xlabel('% unlabeled')\n",
    "            # ax.set_ylim(0.55, 1)\n",
    "            ax.set_ylim(percent_subset.test_score.min(), percent_subset.test_score.max())\n",
    "            #ax.set_ylabel('accuracy')\n",
    "\n",
    "            lapsvm_scores = percent_subset.ix[percent_subset.estimator == 'LapSVM']\n",
    "            \n",
    "            links_scores = percent_subset.ix[percent_subset.estimator == 'Links']\n",
    "            links_score_by_plinks = links_scores['test_score'].groupby(links_scores['percent_links']).agg('mean')\n",
    "            #assert svm_scores.\n",
    "            ax.plot([0, 0.5], [lapsvm_scores.test_score.mean()]*2, 'g--', label='LapSVM')\n",
    "            ax.plot(links_score_by_plinks.index.values, links_score_by_plinks.values, 'r', label='Links')\n",
    "        #break\n",
    "    #fig.tight_layout(pad=0.11, w_pad=0.1, h_pad=0.05)\n",
    "    fig.subplots_adjust(left=0.05, bottom=0.05, right=0.95, top=0.95,\n",
    "                    wspace=0.07, hspace=0.05)"
   ]
  },
  {
   "cell_type": "code",
   "execution_count": 37,
   "metadata": {},
   "outputs": [],
   "source": [
    "plot_lapsvm_subset(lapsvm)"
   ]
  },
  {
   "cell_type": "code",
   "execution_count": 67,
   "metadata": {},
   "outputs": [
    {
     "data": {
      "text/plain": [
       "array([ 0.1,  0.2,  0.3,  0.4,  0.5,  0. ])"
      ]
     },
     "execution_count": 67,
     "metadata": {},
     "output_type": "execute_result"
    }
   ],
   "source": [
    "lapsvm.percent_links.unique()"
   ]
  },
  {
   "cell_type": "code",
   "execution_count": null,
   "metadata": {
    "collapsed": true
   },
   "outputs": [],
   "source": []
  }
 ],
 "metadata": {
  "kernelspec": {
   "display_name": "Python 2",
   "language": "python",
   "name": "python2"
  },
  "language_info": {
   "codemirror_mode": {
    "name": "ipython",
    "version": 2
   },
   "file_extension": ".py",
   "mimetype": "text/x-python",
   "name": "python",
   "nbconvert_exporter": "python",
   "pygments_lexer": "ipython2",
   "version": "2.7.13"
  }
 },
 "nbformat": 4,
 "nbformat_minor": 1
}
